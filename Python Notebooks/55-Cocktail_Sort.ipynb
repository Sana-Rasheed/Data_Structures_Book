{
  "nbformat": 4,
  "nbformat_minor": 0,
  "metadata": {
    "colab": {
      "provenance": []
    },
    "kernelspec": {
      "name": "python3",
      "display_name": "Python 3"
    },
    "language_info": {
      "name": "python"
    }
  },
  "cells": [
    {
      "cell_type": "code",
      "execution_count": 1,
      "metadata": {
        "colab": {
          "base_uri": "https://localhost:8080/"
        },
        "id": "62fJJd_m40GH",
        "outputId": "827ec19c-63a8-4f58-9111-811a0c8d0328"
      },
      "outputs": [
        {
          "output_type": "stream",
          "name": "stdout",
          "text": [
            "Sorted array is:\n",
            " 0\n",
            " 1\n",
            " 2\n",
            " 2\n",
            " 4\n",
            " 5\n",
            " 8\n"
          ]
        }
      ],
      "source": [
        "# Python program for implementation of Cocktail Sort\n",
        "\n",
        "\n",
        "def cocktailSort(a):\n",
        "\tn = len(a)\n",
        "\tswapped = True\n",
        "\tstart = 0\n",
        "\tend = n-1\n",
        "\twhile (swapped == True):\n",
        "\n",
        "\t\t# reset the swapped flag on entering the loop,\n",
        "\t\t# because it might be true from a previous\n",
        "\t\t# iteration.\n",
        "\t\tswapped = False\n",
        "\n",
        "\t\t# loop from left to right same as the bubble\n",
        "\t\t# sort\n",
        "\t\tfor i in range(start, end):\n",
        "\t\t\tif (a[i] > a[i + 1]):\n",
        "\t\t\t\ta[i], a[i + 1] = a[i + 1], a[i]\n",
        "\t\t\t\tswapped = True\n",
        "\n",
        "\t\t# if nothing moved, then array is sorted.\n",
        "\t\tif (swapped == False):\n",
        "\t\t\tbreak\n",
        "\n",
        "\t\t# otherwise, reset the swapped flag so that it\n",
        "\t\t# can be used in the next stage\n",
        "\t\tswapped = False\n",
        "\n",
        "\t\t# move the end point back by one, because\n",
        "\t\t# item at the end is in its rightful spot\n",
        "\t\tend = end-1\n",
        "\n",
        "\t\t# from right to left, doing the same\n",
        "\t\t# comparison as in the previous stage\n",
        "\t\tfor i in range(end-1, start-1, -1):\n",
        "\t\t\tif (a[i] > a[i + 1]):\n",
        "\t\t\t\ta[i], a[i + 1] = a[i + 1], a[i]\n",
        "\t\t\t\tswapped = True\n",
        "\n",
        "\t\t# increase the starting point, because\n",
        "\t\t# the last stage would have moved the next\n",
        "\t\t# smallest number to its rightful spot.\n",
        "\t\tstart = start + 1\n",
        "\n",
        "\n",
        "# Driver code\n",
        "a = [5, 1, 4, 2, 8, 0, 2]\n",
        "cocktailSort(a)\n",
        "print(\"Sorted array is:\")\n",
        "for i in range(len(a)):\n",
        "\tprint(\"% d\" % a[i])\n"
      ]
    },
    {
      "cell_type": "code",
      "source": [],
      "metadata": {
        "id": "vpUKcO_i45Mf"
      },
      "execution_count": null,
      "outputs": []
    }
  ]
}