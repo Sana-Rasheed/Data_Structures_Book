{
  "nbformat": 4,
  "nbformat_minor": 0,
  "metadata": {
    "colab": {
      "provenance": []
    },
    "kernelspec": {
      "name": "python3",
      "display_name": "Python 3"
    },
    "language_info": {
      "name": "python"
    }
  },
  "cells": [
    {
      "cell_type": "code",
      "execution_count": 1,
      "metadata": {
        "colab": {
          "base_uri": "https://localhost:8080/"
        },
        "id": "dN7JRttm8QrB",
        "outputId": "5b05d8ab-5bc3-4709-fcd6-64c05a0adcdf"
      },
      "outputs": [
        {
          "output_type": "stream",
          "name": "stdout",
          "text": [
            "Sorted Array in descending order is\n",
            "[0.32, 0.33, 0.37, 0.42, 0.47, 0.51, 0.52]\n"
          ]
        }
      ],
      "source": [
        "# Bucket Sort in Python\n",
        "\n",
        "\n",
        "def bucketSort(array):\n",
        "    bucket = []\n",
        "\n",
        "    # Create empty buckets\n",
        "    for i in range(len(array)):\n",
        "        bucket.append([])\n",
        "\n",
        "    # Insert elements into their respective buckets\n",
        "    for j in array:\n",
        "        index_b = int(10 * j)\n",
        "        bucket[index_b].append(j)\n",
        "\n",
        "    # Sort the elements of each bucket\n",
        "    for i in range(len(array)):\n",
        "        bucket[i] = sorted(bucket[i])\n",
        "\n",
        "    # Get the sorted elements\n",
        "    k = 0\n",
        "    for i in range(len(array)):\n",
        "        for j in range(len(bucket[i])):\n",
        "            array[k] = bucket[i][j]\n",
        "            k += 1\n",
        "    return array\n",
        "\n",
        "\n",
        "array = [.42, .32, .33, .52, .37, .47, .51]\n",
        "print(\"Sorted Array in descending order is\")\n",
        "print(bucketSort(array))"
      ]
    },
    {
      "cell_type": "code",
      "source": [
        "# Python3 program to sort an array\n",
        "# using bucket sort\n",
        "def insertionSort(b):\n",
        "\tfor i in range(1, len(b)):\n",
        "\t\tup = b[i]\n",
        "\t\tj = i - 1\n",
        "\t\twhile j >= 0 and b[j] > up:\n",
        "\t\t\tb[j + 1] = b[j]\n",
        "\t\t\tj -= 1\n",
        "\t\tb[j + 1] = up\t\n",
        "\treturn b\t\n",
        "\t\t\t\n",
        "def bucketSort(x):\n",
        "\tarr = []\n",
        "\tslot_num = 10 # 10 means 10 slots, each\n",
        "\t\t\t\t# slot's size is 0.1\n",
        "\tfor i in range(slot_num):\n",
        "\t\tarr.append([])\n",
        "\t\t\n",
        "\t# Put array elements in different buckets\n",
        "\tfor j in x:\n",
        "\t\tindex_b = int(slot_num * j)\n",
        "\t\tarr[index_b].append(j)\n",
        "\t\n",
        "\t# Sort individual buckets\n",
        "\tfor i in range(slot_num):\n",
        "\t\tarr[i] = insertionSort(arr[i])\n",
        "\t\t\n",
        "\t# concatenate the result\n",
        "\tk = 0\n",
        "\tfor i in range(slot_num):\n",
        "\t\tfor j in range(len(arr[i])):\n",
        "\t\t\tx[k] = arr[i][j]\n",
        "\t\t\tk += 1\n",
        "\treturn x\n",
        "\n",
        "# Driver Code\n",
        "x = [0.897, 0.565, 0.656,\n",
        "\t0.1234, 0.665, 0.3434]\n",
        "print(\"Sorted Array is:\")\n",
        "print(bucketSort(x))\n",
        "\n",
        "\n"
      ],
      "metadata": {
        "id": "78S92w6b8RfU"
      },
      "execution_count": null,
      "outputs": []
    }
  ]
}