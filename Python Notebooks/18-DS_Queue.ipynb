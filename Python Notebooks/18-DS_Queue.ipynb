{
  "nbformat": 4,
  "nbformat_minor": 0,
  "metadata": {
    "colab": {
      "provenance": [],
      "collapsed_sections": []
    },
    "kernelspec": {
      "name": "python3",
      "display_name": "Python 3"
    },
    "language_info": {
      "name": "python"
    }
  },
  "cells": [
    {
      "cell_type": "markdown",
      "source": [
        "## Adding Element to a Queue (Enqueue)"
      ],
      "metadata": {
        "id": "6ijJSpghQBo4"
      }
    },
    {
      "cell_type": "code",
      "source": [
        "class Queue:  \n",
        "  \n",
        "  def __init__(self):  \n",
        "      self.queue = list()  \n",
        "  \n",
        "  def add_element(self,val):  \n",
        "# Insert method to add element  \n",
        "      if val not in self.queue:  \n",
        "          self.queue.insert(0,val)  \n",
        "          return True  \n",
        "      return False  \n",
        "  \n",
        "  def size(self):  \n",
        "      return len(self.queue)  \n",
        "  \n",
        "TheQueue = Queue()  \n",
        "TheQueue.add_element(\"Apple\")  \n",
        "TheQueue.add_element(\"Mango\")  \n",
        "TheQueue.add_element(\"Guava\")  \n",
        "TheQueue.add_element(\"Papaya\")  \n",
        "  \n",
        "print(\"The length of Queue: \",TheQueue.size())  "
      ],
      "metadata": {
        "colab": {
          "base_uri": "https://localhost:8080/"
        },
        "id": "S1Ju20tGQCOF",
        "outputId": "8e58bf5d-38ad-491f-e8ff-9e786adc3364"
      },
      "execution_count": 1,
      "outputs": [
        {
          "output_type": "stream",
          "name": "stdout",
          "text": [
            "The length of Queue:  4\n"
          ]
        }
      ]
    },
    {
      "cell_type": "markdown",
      "source": [
        "## Removing Element from a Queue (Dequeue)"
      ],
      "metadata": {
        "id": "ZgVo6lnvQNet"
      }
    },
    {
      "cell_type": "code",
      "source": [
        "class Queue:  \n",
        "  \n",
        "  def __init__(self):  \n",
        "      self.queue = list()  \n",
        "  \n",
        "  def add_element(self,val):  \n",
        "# Insert method to add element  \n",
        "      if val not in self.queue:  \n",
        "          self.queue.insert(0,val)  \n",
        "          return True  \n",
        "      return False  \n",
        "# Pop method to remove element  \n",
        "  def remove_element(self):  \n",
        "      if len(self.queue)>0:  \n",
        "          return self.queue.pop()  \n",
        "      return (\"Queue is Empty\")  \n",
        "  \n",
        "que = Queue()  \n",
        "que.add_element(\"January\")  \n",
        "que.add_element(\"February\")  \n",
        "que.add_element(\"March\")  \n",
        "que.add_element(\"April\")  \n",
        "  \n",
        "print(que)  \n",
        "print(que.remove_element())  \n",
        "print(que.remove_element())  "
      ],
      "metadata": {
        "colab": {
          "base_uri": "https://localhost:8080/"
        },
        "id": "uPoTWOBJQOyT",
        "outputId": "8f231cee-dbfe-4bb4-de3e-bfb35d99e19d"
      },
      "execution_count": 2,
      "outputs": [
        {
          "output_type": "stream",
          "name": "stdout",
          "text": [
            "<__main__.Queue object at 0x7f4bb6a4eb50>\n",
            "January\n",
            "February\n"
          ]
        }
      ]
    },
    {
      "cell_type": "markdown",
      "source": [
        "## Sorting the Queue"
      ],
      "metadata": {
        "id": "D32ifkF6QWd6"
      }
    },
    {
      "cell_type": "code",
      "source": [
        "import queue  \n",
        "q = queue.Queue()  \n",
        "  \n",
        "q.put(14)  \n",
        "q.put(27)  \n",
        "q.put(11)  \n",
        "q.put(4)  \n",
        "q.put(1)  \n",
        "  \n",
        "  \n",
        "# Here, we use bubble sort algorithm for sorting  \n",
        "n =  q.qsize()  \n",
        "for i in range(n):  \n",
        "    # Remove the element  \n",
        "    x = q.get()  \n",
        "    for j in range(n-1):  \n",
        "        # Remove the element  \n",
        "        y = q.get()  \n",
        "        if x > y :  \n",
        "            # put the smaller element at the beginning of the queue  \n",
        "            q.put(y)  \n",
        "        else:  \n",
        "            # the smaller one is put at the start of the queue  \n",
        "            q.put(x)  \n",
        "            x = y    # The greater element is replaced by the x and check again  \n",
        "    q.put(x)  \n",
        "  \n",
        "while (q.empty() == False):   \n",
        "    print(q.queue[0], end = \" \")    \n",
        "    q.get()  "
      ],
      "metadata": {
        "colab": {
          "base_uri": "https://localhost:8080/"
        },
        "id": "gRmwYBgtQW91",
        "outputId": "38ce9c24-43d6-4654-8802-1c4c6d3da3f8"
      },
      "execution_count": 3,
      "outputs": [
        {
          "output_type": "stream",
          "name": "stdout",
          "text": [
            "1 4 11 14 27 "
          ]
        }
      ]
    },
    {
      "cell_type": "code",
      "source": [],
      "metadata": {
        "id": "OAKmiRoxQaty"
      },
      "execution_count": null,
      "outputs": []
    }
  ]
}