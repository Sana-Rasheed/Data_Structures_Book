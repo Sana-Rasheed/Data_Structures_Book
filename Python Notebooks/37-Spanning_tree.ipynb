{
  "nbformat": 4,
  "nbformat_minor": 0,
  "metadata": {
    "colab": {
      "provenance": []
    },
    "kernelspec": {
      "name": "python3",
      "display_name": "Python 3"
    },
    "language_info": {
      "name": "python"
    }
  },
  "cells": [
    {
      "cell_type": "markdown",
      "source": [
        "## Prim's Minimum Spanning Tree"
      ],
      "metadata": {
        "id": "q-0ar3xaM-uY"
      }
    },
    {
      "cell_type": "code",
      "source": [
        "# Prim's Algorithm in Python\n",
        "\n",
        "\n",
        "INF = 9999999\n",
        "# number of vertices in graph\n",
        "V = 5\n",
        "# create a 2d array of size 5x5\n",
        "# for adjacency matrix to represent graph\n",
        "G = [[0, 9, 75, 0, 0],\n",
        "     [9, 0, 95, 19, 42],\n",
        "     [75, 95, 0, 51, 66],\n",
        "     [0, 19, 51, 0, 31],\n",
        "     [0, 42, 66, 31, 0]]\n",
        "# create a array to track selected vertex\n",
        "# selected will become true otherwise false\n",
        "selected = [0, 0, 0, 0, 0]\n",
        "# set number of edge to 0\n",
        "no_edge = 0\n",
        "# the number of egde in minimum spanning tree will be\n",
        "# always less than(V - 1), where V is number of vertices in\n",
        "# graph\n",
        "# choose 0th vertex and make it true\n",
        "selected[0] = True\n",
        "# print for edge and weight\n",
        "print(\"Edge : Weight\\n\")\n",
        "while (no_edge < V - 1):\n",
        "    # For every vertex in the set S, find the all adjacent vertices\n",
        "    #, calculate the distance from the vertex selected at step 1.\n",
        "    # if the vertex is already in the set S, discard it otherwise\n",
        "    # choose another vertex nearest to selected vertex  at step 1.\n",
        "    minimum = INF\n",
        "    x = 0\n",
        "    y = 0\n",
        "    for i in range(V):\n",
        "        if selected[i]:\n",
        "            for j in range(V):\n",
        "                if ((not selected[j]) and G[i][j]):  \n",
        "                    # not in selected and there is an edge\n",
        "                    if minimum > G[i][j]:\n",
        "                        minimum = G[i][j]\n",
        "                        x = i\n",
        "                        y = j\n",
        "    print(str(x) + \"-\" + str(y) + \":\" + str(G[x][y]))\n",
        "    selected[y] = True\n",
        "    no_edge += 1"
      ],
      "metadata": {
        "colab": {
          "base_uri": "https://localhost:8080/"
        },
        "id": "QAfVD9saNEAT",
        "outputId": "33c11d04-ee0a-4f67-f67d-43f33e795a73"
      },
      "execution_count": 3,
      "outputs": [
        {
          "output_type": "stream",
          "name": "stdout",
          "text": [
            "Edge : Weight\n",
            "\n",
            "0-1:9\n",
            "1-3:19\n",
            "3-4:31\n",
            "3-2:51\n"
          ]
        }
      ]
    },
    {
      "cell_type": "markdown",
      "source": [
        "## Kruskal’s Minimum Spanning Tree"
      ],
      "metadata": {
        "id": "BqJjFrf5Nwx8"
      }
    },
    {
      "cell_type": "code",
      "source": [
        "# Python program for Kruskal's algorithm to find\n",
        "# Minimum Spanning Tree of a given connected,\n",
        "# undirected and weighted graph\n",
        "\n",
        "# Class to represent a graph\n",
        "\n",
        "\n",
        "class Graph:\n",
        "\n",
        "\tdef __init__(self, vertices):\n",
        "\t\tself.V = vertices # No. of vertices\n",
        "\t\tself.graph = []\n",
        "\t\t# to store graph\n",
        "\n",
        "\t# function to add an edge to graph\n",
        "\tdef addEdge(self, u, v, w):\n",
        "\t\tself.graph.append([u, v, w])\n",
        "\n",
        "\t# A utility function to find set of an element i\n",
        "\t# (truly uses path compression technique)\n",
        "\tdef find(self, parent, i):\n",
        "\t\tif parent[i] != i:\n",
        "\t\t# Reassignment of node's parent to root node as\n",
        "\t\t# path compression requires\n",
        "\t\t\tparent[i] = self.find(parent, parent[i])\n",
        "\t\treturn parent[i]\n",
        "\n",
        "\t# A function that does union of two sets of x and y\n",
        "\t# (uses union by rank)\n",
        "\tdef union(self, parent, rank, x, y):\n",
        "\t\t\n",
        "\t\t# Attach smaller rank tree under root of\n",
        "\t\t# high rank tree (Union by Rank)\n",
        "\t\tif rank[x] < rank[y]:\n",
        "\t\t\tparent[x] = y\n",
        "\t\telif rank[x] > rank[y]:\n",
        "\t\t\tparent[y] = x\n",
        "\n",
        "\t\t# If ranks are same, then make one as root\n",
        "\t\t# and increment its rank by one\n",
        "\t\telse:\n",
        "\t\t\tparent[y] = x\n",
        "\t\t\trank[x] += 1\n",
        "\n",
        "\t# The main function to construct MST using Kruskal's\n",
        "\t\t# algorithm\n",
        "\tdef KruskalMST(self):\n",
        "\n",
        "\t\tresult = [] # This will store the resultant MST\n",
        "\n",
        "\t\t# An index variable, used for sorted edges\n",
        "\t\ti = 0\n",
        "\n",
        "\t\t# An index variable, used for result[]\n",
        "\t\te = 0\n",
        "\n",
        "\t\t# Step 1: Sort all the edges in\n",
        "\t\t# non-decreasing order of their\n",
        "\t\t# weight. If we are not allowed to change the\n",
        "\t\t# given graph, we can create a copy of graph\n",
        "\t\tself.graph = sorted(self.graph,\n",
        "\t\t\t\t\t\t\tkey=lambda item: item[2])\n",
        "\n",
        "\t\tparent = []\n",
        "\t\trank = []\n",
        "\n",
        "\t\t# Create V subsets with single elements\n",
        "\t\tfor node in range(self.V):\n",
        "\t\t\tparent.append(node)\n",
        "\t\t\trank.append(0)\n",
        "\n",
        "\t\t# Number of edges to be taken is equal to V-1\n",
        "\t\twhile e < self.V - 1:\n",
        "\n",
        "\t\t\t# Step 2: Pick the smallest edge and increment\n",
        "\t\t\t# the index for next iteration\n",
        "\t\t\tu, v, w = self.graph[i]\n",
        "\t\t\ti = i + 1\n",
        "\t\t\tx = self.find(parent, u)\n",
        "\t\t\ty = self.find(parent, v)\n",
        "\n",
        "\t\t\t# If including this edge doesn't\n",
        "\t\t\t# cause cycle, then include it in result\n",
        "\t\t\t# and increment the index of result\n",
        "\t\t\t# for next edge\n",
        "\t\t\tif x != y:\n",
        "\t\t\t\te = e + 1\n",
        "\t\t\t\tresult.append([u, v, w])\n",
        "\t\t\t\tself.union(parent, rank, x, y)\n",
        "\t\t\t# Else discard the edge\n",
        "\n",
        "\t\tminimumCost = 0\n",
        "\t\tprint(\"Edges in the constructed MST\")\n",
        "\t\tfor u, v, weight in result:\n",
        "\t\t\tminimumCost += weight\n",
        "\t\t\tprint(\"%d -- %d == %d\" % (u, v, weight))\n",
        "\t\tprint(\"Minimum Spanning Tree\", minimumCost)\n",
        "\n",
        "\n",
        "# Driver's code\n",
        "if __name__ == '__main__':\n",
        "\tg = Graph(4)\n",
        "\tg.addEdge(0, 1, 10)\n",
        "\tg.addEdge(0, 2, 6)\n",
        "\tg.addEdge(0, 3, 5)\n",
        "\tg.addEdge(1, 3, 15)\n",
        "\tg.addEdge(2, 3, 4)\n",
        "\n",
        "\t# Function call\n",
        "\tg.KruskalMST()\n",
        "\n",
        "\n"
      ],
      "metadata": {
        "colab": {
          "base_uri": "https://localhost:8080/"
        },
        "id": "t2GdPxWVOHuY",
        "outputId": "9c38dceb-5a2d-4c6d-e76a-aad7f3f737d5"
      },
      "execution_count": 4,
      "outputs": [
        {
          "output_type": "stream",
          "name": "stdout",
          "text": [
            "Edges in the constructed MST\n",
            "2 -- 3 == 4\n",
            "0 -- 3 == 5\n",
            "0 -- 1 == 10\n",
            "Minimum Spanning Tree 19\n"
          ]
        }
      ]
    }
  ]
}