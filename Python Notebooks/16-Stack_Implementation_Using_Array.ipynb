{
  "nbformat": 4,
  "nbformat_minor": 0,
  "metadata": {
    "colab": {
      "provenance": [],
      "collapsed_sections": []
    },
    "kernelspec": {
      "name": "python3",
      "display_name": "Python 3"
    },
    "language_info": {
      "name": "python"
    }
  },
  "cells": [
    {
      "cell_type": "markdown",
      "source": [
        "## Fixed array implementation"
      ],
      "metadata": {
        "id": "_MDouMidjY6z"
      }
    },
    {
      "cell_type": "code",
      "execution_count": 1,
      "metadata": {
        "colab": {
          "base_uri": "https://localhost:8080/"
        },
        "id": "iXfGl1oUjKEM",
        "outputId": "48f86202-a4fe-448d-d53e-87ab154abef9"
      },
      "outputs": [
        {
          "output_type": "stream",
          "name": "stdout",
          "text": [
            "6\n",
            "6\n",
            "4\n",
            "9\n"
          ]
        }
      ],
      "source": [
        "class Stack:\n",
        "  def __init__(self, size=10):\n",
        "      self._stack = []\n",
        "      self._size = size\n",
        "\n",
        "  def is_empty(self):\n",
        "      return len(self._stack) <= 0\n",
        "\n",
        "  def push(self, data):\n",
        "      if len(self._stack) >= self._size:\n",
        "          raise Exception('Stack overflow')\n",
        "      else:\n",
        "          self._stack.append(data)\n",
        "\n",
        "  def pop(self):\n",
        "      if len(self._stack) <= 0:\n",
        "          raise Exception('Stack underflow')\n",
        "      else:\n",
        "          return self._stack.pop()\n",
        "\n",
        "  def peek(self):\n",
        "      if len(self._stack) <= 0:\n",
        "          raise Exception('Stack underflow')\n",
        "      else:\n",
        "          return self._stack[-1]\n",
        "\n",
        "  def length(self):\n",
        "      return len(self._stack)\n",
        "\n",
        "\n",
        "stack = Stack(5)\n",
        "stack.push(5)\n",
        "stack.push(2)\n",
        "stack.push(3)\n",
        "stack.push(9)\n",
        "stack.push(6)\n",
        "print(stack.peek())\n",
        "print(stack.pop())\n",
        "print(stack.length())\n",
        "print(stack.peek())"
      ]
    },
    {
      "cell_type": "markdown",
      "source": [
        "## Dynamic array implementation"
      ],
      "metadata": {
        "id": "i-ibm28vjj2y"
      }
    },
    {
      "cell_type": "code",
      "source": [
        "class Stack:\n",
        "  def __init__(self, size=10):\n",
        "      self._stack = []\n",
        "      self._size = size\n",
        "\n",
        "  def is_empty(self):\n",
        "      return len(self._size) <= 0\n",
        "\n",
        "  def push(self, data):\n",
        "      if len(self._stack) >= self._size:\n",
        "          self._resize()\n",
        "      self._stack.append(data)\n",
        "\n",
        "  def pop(self):\n",
        "      if len(self._stack) <= 0:\n",
        "          raise Exception('Stack underflow')\n",
        "      else:\n",
        "          return self._stack.pop()\n",
        "\n",
        "  def peek(self):\n",
        "      if len(self._stack) <= 0:\n",
        "          raise Exception('Stack underflow')\n",
        "      else:\n",
        "          return self._stack[-1]\n",
        "\n",
        "  def length(self):\n",
        "      return len(self._size)\n",
        "\n",
        "  def _resize(self):\n",
        "      new_stack = [*self._stack]\n",
        "      self._size = 2 * self._size\n",
        "      self._stack = new_stack\n",
        "\n",
        "\n",
        "stack = Stack(2)\n",
        "stack.push(5)\n",
        "stack.push(4)\n",
        "stack.push(3)\n",
        "stack.push(9)\n",
        "print(stack.peek())\n",
        "print(stack.pop())\n",
        "print(stack.peek())"
      ],
      "metadata": {
        "colab": {
          "base_uri": "https://localhost:8080/"
        },
        "id": "LIA8RW0MjrwU",
        "outputId": "bae2b84f-aa1c-455a-caf6-b22ab9dc0d65"
      },
      "execution_count": 2,
      "outputs": [
        {
          "output_type": "stream",
          "name": "stdout",
          "text": [
            "9\n",
            "9\n",
            "3\n"
          ]
        }
      ]
    },
    {
      "cell_type": "code",
      "source": [],
      "metadata": {
        "id": "Xp6vTW2SjtYs"
      },
      "execution_count": null,
      "outputs": []
    }
  ]
}