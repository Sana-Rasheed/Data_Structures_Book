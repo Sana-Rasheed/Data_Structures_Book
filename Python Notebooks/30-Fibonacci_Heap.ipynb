{
  "nbformat": 4,
  "nbformat_minor": 0,
  "metadata": {
    "colab": {
      "provenance": []
    },
    "kernelspec": {
      "name": "python3",
      "display_name": "Python 3"
    },
    "language_info": {
      "name": "python"
    }
  },
  "cells": [
    {
      "cell_type": "code",
      "execution_count": 1,
      "metadata": {
        "colab": {
          "base_uri": "https://localhost:8080/"
        },
        "id": "bMq7EHvBAaGz",
        "outputId": "d8fcaff3-03d7-4e9d-883c-6e06778dd915"
      },
      "outputs": [
        {
          "output_type": "stream",
          "name": "stdout",
          "text": [
            "the minimum value of the fibonacci heap: 3\n",
            "the minimum value removed: 3\n"
          ]
        }
      ],
      "source": [
        "# Fibonacci Heap in python\n",
        "\n",
        "import math\n",
        "\n",
        "# Creating fibonacci tree\n",
        "class FibonacciTree:\n",
        "    def __init__(self, value):\n",
        "        self.value = value\n",
        "        self.child = []\n",
        "        self.order = 0\n",
        "\n",
        "    # Adding tree at the end of the tree\n",
        "    def add_at_end(self, t):\n",
        "        self.child.append(t)\n",
        "        self.order = self.order + 1\n",
        "\n",
        "\n",
        "# Creating Fibonacci heap\n",
        "class FibonacciHeap:\n",
        "    def __init__(self):\n",
        "        self.trees = []\n",
        "        self.least = None\n",
        "        self.count = 0\n",
        "\n",
        "    # Insert a node\n",
        "    def insert_node(self, value):\n",
        "        new_tree = FibonacciTree(value)\n",
        "        self.trees.append(new_tree)\n",
        "        if (self.least is None or value < self.least.value):\n",
        "            self.least = new_tree\n",
        "        self.count = self.count + 1\n",
        "\n",
        "    # Get minimum value\n",
        "    def get_min(self):\n",
        "        if self.least is None:\n",
        "            return None\n",
        "        return self.least.value\n",
        "\n",
        "    # Extract the minimum value\n",
        "    def extract_min(self):\n",
        "        smallest = self.least\n",
        "        if smallest is not None:\n",
        "            for child in smallest.child:\n",
        "                self.trees.append(child)\n",
        "            self.trees.remove(smallest)\n",
        "            if self.trees == []:\n",
        "                self.least = None\n",
        "            else:\n",
        "                self.least = self.trees[0]\n",
        "                self.consolidate()\n",
        "            self.count = self.count - 1\n",
        "            return smallest.value\n",
        "\n",
        "    # Consolidate the tree\n",
        "    def consolidate(self):\n",
        "        aux = (floor_log(self.count) + 1) * [None]\n",
        "\n",
        "        while self.trees != []:\n",
        "            x = self.trees[0]\n",
        "            order = x.order\n",
        "            self.trees.remove(x)\n",
        "            while aux[order] is not None:\n",
        "                y = aux[order]\n",
        "                if x.value > y.value:\n",
        "                    x, y = y, x\n",
        "                x.add_at_end(y)\n",
        "                aux[order] = None\n",
        "                order = order + 1\n",
        "            aux[order] = x\n",
        "\n",
        "        self.least = None\n",
        "        for k in aux:\n",
        "            if k is not None:\n",
        "                self.trees.append(k)\n",
        "                if (self.least is None\n",
        "                        or k.value < self.least.value):\n",
        "                    self.least = k\n",
        "\n",
        "\n",
        "def floor_log(x):\n",
        "    return math.frexp(x)[1] - 1\n",
        "\n",
        "\n",
        "fibonacci_heap = FibonacciHeap()\n",
        "\n",
        "fibonacci_heap.insert_node(7)\n",
        "fibonacci_heap.insert_node(3)\n",
        "fibonacci_heap.insert_node(17)\n",
        "fibonacci_heap.insert_node(24)\n",
        "\n",
        "print('the minimum value of the fibonacci heap: {}'.format(fibonacci_heap.get_min()))\n",
        "\n",
        "print('the minimum value removed: {}'.format(fibonacci_heap.extract_min()))\n"
      ]
    },
    {
      "cell_type": "code",
      "source": [],
      "metadata": {
        "id": "uiWupSq0AbS9"
      },
      "execution_count": null,
      "outputs": []
    }
  ]
}