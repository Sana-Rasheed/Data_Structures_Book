{
  "nbformat": 4,
  "nbformat_minor": 0,
  "metadata": {
    "colab": {
      "provenance": []
    },
    "kernelspec": {
      "name": "python3",
      "display_name": "Python 3"
    },
    "language_info": {
      "name": "python"
    }
  },
  "cells": [
    {
      "cell_type": "code",
      "execution_count": 4,
      "metadata": {
        "colab": {
          "base_uri": "https://localhost:8080/"
        },
        "id": "lMb-VC0E0hnn",
        "outputId": "6d220355-2ffd-4917-c52c-40dab5c10a68"
      },
      "outputs": [
        {
          "output_type": "stream",
          "name": "stdout",
          "text": [
            "Sorted Array in Ascending Order:\n",
            "[2, 3, 12, 34, 54]\n"
          ]
        }
      ],
      "source": [
        "# Shell sort in python\n",
        "\n",
        "\n",
        "def shellSort(array, n):\n",
        "\n",
        "    # Rearrange elements at each n/2, n/4, n/8, ... intervals\n",
        "    interval = n // 2\n",
        "    while interval > 0:\n",
        "        for i in range(interval, n):\n",
        "            temp = array[i]\n",
        "            j = i\n",
        "            while j >= interval and array[j - interval] > temp:\n",
        "                array[j] = array[j - interval]\n",
        "                j -= interval\n",
        "\n",
        "            array[j] = temp\n",
        "        interval //= 2\n",
        "\n",
        "\n",
        "data = [12, 34, 54, 2, 3]\n",
        "size = len(data)\n",
        "shellSort(data, size)\n",
        "print('Sorted Array in Ascending Order:')\n",
        "print(data)"
      ]
    },
    {
      "cell_type": "code",
      "source": [],
      "metadata": {
        "id": "-LMwcZ7q1C3b"
      },
      "execution_count": null,
      "outputs": []
    }
  ]
}