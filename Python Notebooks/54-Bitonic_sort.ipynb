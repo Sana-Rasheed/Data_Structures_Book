{
  "nbformat": 4,
  "nbformat_minor": 0,
  "metadata": {
    "colab": {
      "provenance": []
    },
    "kernelspec": {
      "name": "python3",
      "display_name": "Python 3"
    },
    "language_info": {
      "name": "python"
    }
  },
  "cells": [
    {
      "cell_type": "code",
      "execution_count": 3,
      "metadata": {
        "colab": {
          "base_uri": "https://localhost:8080/"
        },
        "id": "g9uw-c2fRkep",
        "outputId": "bab583d5-fc2d-48e6-e6ae-5ed1e44e59ed"
      },
      "outputs": [
        {
          "output_type": "stream",
          "name": "stdout",
          "text": [
            "\n",
            "\n",
            "Sorted array is\n",
            "1 2 3 4 5 6 7 8 "
          ]
        }
      ],
      "source": [
        "# Python program for Bitonic Sort. Note that this program\n",
        "# works only when size of input is a power of 2.\n",
        "\n",
        "# The parameter dire indicates the sorting direction, ASCENDING\n",
        "# or DESCENDING; if (a[i] > a[j]) agrees with the direction,\n",
        "# then a[i] and a[j] are interchanged.*/\n",
        "def compAndSwap(a, i, j, dire):\n",
        "\tif (dire==1 and a[i] > a[j]) or (dire==0 and a[i] < a[j]):\n",
        "\t\ta[i],a[j] = a[j],a[i]\n",
        "\n",
        "# It recursively sorts a bitonic sequence in ascending order,\n",
        "# if dire = 1, and in descending order otherwise (means dire=0).\n",
        "# The sequence to be sorted starts at index position low,\n",
        "# the parameter cnt is the number of elements to be sorted.\n",
        "def bitonicMerge(a, low, cnt, dire):\n",
        "\tif cnt > 1:\n",
        "\t\tk = cnt//2\n",
        "\t\tfor i in range(low , low+k):\n",
        "\t\t\tcompAndSwap(a, i, i+k, dire)\n",
        "\t\tbitonicMerge(a, low, k, dire)\n",
        "\t\tbitonicMerge(a, low+k, k, dire)\n",
        "\n",
        "# This function first produces a bitonic sequence by recursively\n",
        "# sorting its two halves in opposite sorting orders, and then\n",
        "# calls bitonicMerge to make them in the same order\n",
        "def bitonicSort(a, low, cnt,dire):\n",
        "\tif cnt > 1:\n",
        "\t\tk = cnt//2\n",
        "\t\tbitonicSort(a, low, k, 1)\n",
        "\t\tbitonicSort(a, low+k, k, 0)\n",
        "\t\tbitonicMerge(a, low, cnt, dire)\n",
        "\n",
        "# Caller of bitonicSort for sorting the entire array of length N\n",
        "# in ASCENDING order\n",
        "def sort(a,N, up):\n",
        "\tbitonicSort(a,0, N, up)\n",
        "\n",
        "# Driver code to test above\n",
        "a = [3, 7, 4, 8, 6, 2, 1, 5]\n",
        "n = len(a)\n",
        "up = 1\n",
        "\n",
        "sort(a, n, up)\n",
        "print (\"\\n\\nSorted array is\")\n",
        "for i in range(n):\n",
        "\tprint(\"%d\" %a[i],end=\" \")\n"
      ]
    }
  ]
}