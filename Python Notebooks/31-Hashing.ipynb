{
  "nbformat": 4,
  "nbformat_minor": 0,
  "metadata": {
    "colab": {
      "provenance": []
    },
    "kernelspec": {
      "name": "python3",
      "display_name": "Python 3"
    },
    "language_info": {
      "name": "python"
    }
  },
  "cells": [
    {
      "cell_type": "markdown",
      "source": [
        "## Hash Table Implementation"
      ],
      "metadata": {
        "id": "oMST_4PlIyXf"
      }
    },
    {
      "cell_type": "code",
      "execution_count": 1,
      "metadata": {
        "colab": {
          "base_uri": "https://localhost:8080/"
        },
        "id": "TDHHlgGTIaCh",
        "outputId": "8089ce45-3ae0-4439-e42a-ccc191aefc95"
      },
      "outputs": [
        {
          "output_type": "stream",
          "name": "stdout",
          "text": [
            "The hash value for 3 is 3\n",
            "The hash value for 2 is 2\n",
            "The hash value for 9 is 2\n",
            "The hash value for 11 is 4\n",
            "The hash value for 7 is 0\n"
          ]
        }
      ],
      "source": [
        "def hash_key( key, m):\n",
        "    return key % m\n",
        "\n",
        "\n",
        "m = 7\n",
        "\n",
        "print(f'The hash value for 3 is {hash_key(3,m)}')\n",
        "print(f'The hash value for 2 is {hash_key(2,m)}')\n",
        "print(f'The hash value for 9 is {hash_key(9,m)}')\n",
        "print(f'The hash value for 11 is {hash_key(11,m)}')\n",
        "print(f'The hash value for 7 is {hash_key(7,m)}')"
      ]
    },
    {
      "cell_type": "markdown",
      "source": [
        "## Python Dictionary "
      ],
      "metadata": {
        "id": "aK2cMM9lIozZ"
      }
    },
    {
      "cell_type": "code",
      "source": [
        "employee = {\n",
        "    'name': 'John Doe',\n",
        "    'age': 36,\n",
        "    'position': 'Business Manager.'\n",
        "}\n",
        "\n",
        "print (f\"The name of the employee is {employee['name']}\")\n",
        "employee['position'] = 'Software Engineer'\n",
        "print (f\"The position of {employee['name']} is {employee['position']}\")\n",
        "employee.clear()\n",
        "\n",
        "print (employee)"
      ],
      "metadata": {
        "colab": {
          "base_uri": "https://localhost:8080/"
        },
        "id": "XrwP4oReIrjh",
        "outputId": "ca1f53ab-8cf3-49c3-d439-5b33f33f783d"
      },
      "execution_count": 2,
      "outputs": [
        {
          "output_type": "stream",
          "name": "stdout",
          "text": [
            "The name of the employee is John Doe\n",
            "The position of John Doe is Software Engineer\n",
            "{}\n"
          ]
        }
      ]
    },
    {
      "cell_type": "markdown",
      "source": [
        "### Python Implementation of Hashing"
      ],
      "metadata": {
        "id": "QxMbTQe4Ji8_"
      }
    },
    {
      "cell_type": "code",
      "source": [
        "# Function to display hashtable\n",
        "def display_hash(hashTable):\n",
        "\t\n",
        "\tfor i in range(len(hashTable)):\n",
        "\t\tprint(i, end = \" \")\n",
        "\t\t\n",
        "\t\tfor j in hashTable[i]:\n",
        "\t\t\tprint(\"-->\", end = \" \")\n",
        "\t\t\tprint(j, end = \" \")\n",
        "\t\t\t\n",
        "\t\tprint()\n",
        "\n",
        "# Creating Hashtable as\n",
        "# a nested list.\n",
        "HashTable = [[] for _ in range(10)]\n",
        "\n",
        "# Hashing Function to return\n",
        "# key for every value.\n",
        "def Hashing(keyvalue):\n",
        "\treturn keyvalue % len(HashTable)\n",
        "\n",
        "\n",
        "# Insert Function to add\n",
        "# values to the hash table\n",
        "def insert(Hashtable, keyvalue, value):\n",
        "\t\n",
        "\thash_key = Hashing(keyvalue)\n",
        "\tHashtable[hash_key].append(value)\n",
        "\n",
        "# Driver Code\n",
        "insert(HashTable, 10, 'Islamabad')\n",
        "insert(HashTable, 25, 'Lahore')\n",
        "insert(HashTable, 20, 'Karachi')\n",
        "insert(HashTable, 9, 'Multan')\n",
        "insert(HashTable, 21, 'Peshawar')\n",
        "insert(HashTable, 21, 'Quetta')\n",
        "\n",
        "display_hash (HashTable)\n"
      ],
      "metadata": {
        "colab": {
          "base_uri": "https://localhost:8080/"
        },
        "id": "lbMoqNxqJlcE",
        "outputId": "8709d83a-1606-4028-86ad-d4b783d20523"
      },
      "execution_count": 3,
      "outputs": [
        {
          "output_type": "stream",
          "name": "stdout",
          "text": [
            "0 --> Islamabad --> Karachi \n",
            "1 --> Peshawar --> Quetta \n",
            "2 \n",
            "3 \n",
            "4 \n",
            "5 --> Lahore \n",
            "6 \n",
            "7 \n",
            "8 \n",
            "9 --> Multan \n"
          ]
        }
      ]
    }
  ]
}