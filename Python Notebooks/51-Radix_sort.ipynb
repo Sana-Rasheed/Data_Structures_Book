{
  "nbformat": 4,
  "nbformat_minor": 0,
  "metadata": {
    "colab": {
      "provenance": []
    },
    "kernelspec": {
      "name": "python3",
      "display_name": "Python 3"
    },
    "language_info": {
      "name": "python"
    }
  },
  "cells": [
    {
      "cell_type": "code",
      "execution_count": null,
      "metadata": {
        "colab": {
          "base_uri": "https://localhost:8080/"
        },
        "id": "UJCKuSNPyq97",
        "outputId": "73d88de0-b0f8-448c-9e0d-7614a479e54d"
      },
      "outputs": [
        {
          "output_type": "stream",
          "name": "stdout",
          "text": [
            "[1, 23, 45, 121, 432, 564, 788]\n"
          ]
        }
      ],
      "source": [
        "# Radix sort in Python\n",
        "\n",
        "\n",
        "# Using counting sort to sort the elements in the basis of significant places\n",
        "def countingSort(array, place):\n",
        "    size = len(array)\n",
        "    output = [0] * size\n",
        "    count = [0] * 10\n",
        "\n",
        "    # Calculate count of elements\n",
        "    for i in range(0, size):\n",
        "        index = array[i] // place\n",
        "        count[index % 10] += 1\n",
        "\n",
        "    # Calculate cumulative count\n",
        "    for i in range(1, 10):\n",
        "        count[i] += count[i - 1]\n",
        "\n",
        "    # Place the elements in sorted order\n",
        "    i = size - 1\n",
        "    while i >= 0:\n",
        "        index = array[i] // place\n",
        "        output[count[index % 10] - 1] = array[i]\n",
        "        count[index % 10] -= 1\n",
        "        i -= 1\n",
        "\n",
        "    for i in range(0, size):\n",
        "        array[i] = output[i]\n",
        "\n",
        "\n",
        "# Main function to implement radix sort\n",
        "def radixSort(array):\n",
        "    # Get maximum element\n",
        "    max_element = max(array)\n",
        "\n",
        "    # Apply counting sort to sort elements based on place value.\n",
        "    place = 1\n",
        "    while max_element // place > 0:\n",
        "        countingSort(array, place)\n",
        "        place *= 10\n",
        "\n",
        "\n",
        "data = [121, 432, 564, 23, 1, 45, 788]\n",
        "radixSort(data)\n",
        "print(data)"
      ]
    },
    {
      "cell_type": "code",
      "source": [],
      "metadata": {
        "id": "P1Vaxdq0yr4Y"
      },
      "execution_count": null,
      "outputs": []
    }
  ]
}