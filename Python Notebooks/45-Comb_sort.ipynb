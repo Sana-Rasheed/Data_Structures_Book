{
  "nbformat": 4,
  "nbformat_minor": 0,
  "metadata": {
    "colab": {
      "provenance": []
    },
    "kernelspec": {
      "name": "python3",
      "display_name": "Python 3"
    },
    "language_info": {
      "name": "python"
    }
  },
  "cells": [
    {
      "cell_type": "code",
      "execution_count": 1,
      "metadata": {
        "colab": {
          "base_uri": "https://localhost:8080/"
        },
        "id": "X-OOKYu-n0rG",
        "outputId": "46b2bc42-eb32-4bd4-94a1-3f9188fd76cc"
      },
      "outputs": [
        {
          "output_type": "stream",
          "name": "stdout",
          "text": [
            "Sorted array:\n",
            "-44 -6 0 1 3 4 8 23 28 56 "
          ]
        }
      ],
      "source": [
        "# Python program for implementation of CombSort\n",
        "\n",
        "# To find next gap from current\n",
        "def getNextGap(gap):\n",
        "\n",
        "\t# Shrink gap by Shrink factor\n",
        "\tgap = (gap * 10)//13\n",
        "\tif gap < 1:\n",
        "\t\treturn 1\n",
        "\treturn gap\n",
        "\n",
        "# Function to sort arr[] using Comb Sort\n",
        "def combSort(arr):\n",
        "\tn = len(arr)\n",
        "\n",
        "\t# Initialize gap\n",
        "\tgap = n\n",
        "\n",
        "\t# Initialize swapped as true to make sure that\n",
        "\t# loop runs\n",
        "\tswapped = True\n",
        "\n",
        "\t# Keep running while gap is more than 1 and last\n",
        "\t# iteration caused a swap\n",
        "\twhile gap !=1 or swapped == 1:\n",
        "\n",
        "\t\t# Find next gap\n",
        "\t\tgap = getNextGap(gap)\n",
        "\n",
        "\t\t# Initialize swapped as false so that we can\n",
        "\t\t# check if swap happened or not\n",
        "\t\tswapped = False\n",
        "\n",
        "\t\t# Compare all elements with current gap\n",
        "\t\tfor i in range(0, n-gap):\n",
        "\t\t\tif arr[i] > arr[i + gap]:\n",
        "\t\t\t\tarr[i], arr[i + gap]=arr[i + gap], arr[i]\n",
        "\t\t\t\tswapped = True\n",
        "\n",
        "\n",
        "# Driver code to test above\n",
        "arr = [8, 4, 1, 56, 3, -44, 23, -6, 28, 0]\n",
        "combSort(arr)\n",
        "\n",
        "print (\"Sorted array:\")\n",
        "for i in range(len(arr)):\n",
        "\tprint (arr[i],end=\" \")\n",
        "\n",
        "\n"
      ]
    }
  ]
}