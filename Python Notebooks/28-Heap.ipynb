{
  "nbformat": 4,
  "nbformat_minor": 0,
  "metadata": {
    "colab": {
      "provenance": []
    },
    "kernelspec": {
      "name": "python3",
      "display_name": "Python 3"
    },
    "language_info": {
      "name": "python"
    }
  },
  "cells": [
    {
      "cell_type": "markdown",
      "source": [
        "\n",
        "\n",
        "## *Max*-heap\n"
      ],
      "metadata": {
        "id": "bA4b-ZShv6dl"
      }
    },
    {
      "cell_type": "code",
      "source": [
        "# Max-Heap data structure in Python\n",
        "\n",
        "def heapify(arr, n, i):\n",
        "    largest = i\n",
        "    l = 2 * i + 1\n",
        "    r = 2 * i + 2 \n",
        "    \n",
        "    if l < n and arr[i] < arr[l]:\n",
        "        largest = l\n",
        "    \n",
        "    if r < n and arr[largest] < arr[r]:\n",
        "        largest = r\n",
        "    \n",
        "    if largest != i:\n",
        "        arr[i],arr[largest] = arr[largest],arr[i]\n",
        "        heapify(arr, n, largest)\n",
        "\n",
        "def insert(array, newNum):\n",
        "    size = len(array)\n",
        "    if size == 0:\n",
        "        array.append(newNum)\n",
        "    else:\n",
        "        array.append(newNum);\n",
        "        for i in range((size//2)-1, -1, -1):\n",
        "            heapify(array, size, i)\n",
        "\n",
        "def deleteNode(array, num):\n",
        "    size = len(array)\n",
        "    i = 0\n",
        "    for i in range(0, size):\n",
        "        if num == array[i]:\n",
        "            break\n",
        "        \n",
        "    array[i], array[size-1] = array[size-1], array[i]\n",
        "\n",
        "    array.remove(num)\n",
        "    \n",
        "    for i in range((len(array)//2)-1, -1, -1):\n",
        "        heapify(array, len(array), i)\n",
        "    \n",
        "arr = []\n",
        "\n",
        "insert(arr, 3)\n",
        "insert(arr, 4)\n",
        "insert(arr, 9)\n",
        "insert(arr, 5)\n",
        "insert(arr, 2)\n",
        "\n",
        "print (\"Max-Heap array: \" + str(arr))\n",
        "\n",
        "deleteNode(arr, 4)\n",
        "print(\"After deleting an element: \" + str(arr))"
      ],
      "metadata": {
        "colab": {
          "base_uri": "https://localhost:8080/"
        },
        "id": "xkWnxDuKyyMk",
        "outputId": "ae7dc82e-d1aa-4a0d-a1f8-90173601c44d"
      },
      "execution_count": null,
      "outputs": [
        {
          "output_type": "stream",
          "name": "stdout",
          "text": [
            "Max-Heap array: [9, 5, 4, 3, 2]\n",
            "After deleting an element: [9, 5, 2, 3]\n"
          ]
        }
      ]
    },
    {
      "cell_type": "markdown",
      "source": [
        "## Min-heap\n",
        "\n",
        "\n",
        "\n",
        "\n"
      ],
      "metadata": {
        "id": "T1Ln5Im8wCU7"
      }
    },
    {
      "cell_type": "code",
      "source": [
        "# Python3 implementation of Min Heap\n",
        "\n",
        "import sys\n",
        "\n",
        "class MinHeap:\n",
        "\n",
        "\tdef __init__(self, maxsize):\n",
        "\t\tself.maxsize = maxsize\n",
        "\t\tself.size = 0\n",
        "\t\tself.Heap = [0]*(self.maxsize + 1)\n",
        "\t\tself.Heap[0] = -1 * sys.maxsize\n",
        "\t\tself.FRONT = 1\n",
        "\n",
        "\t# Function to return the position of\n",
        "\t# parent for the node currently\n",
        "\t# at pos\n",
        "\tdef parent(self, pos):\n",
        "\t\treturn pos//2\n",
        "\n",
        "\t# Function to return the position of\n",
        "\t# the left child for the node currently\n",
        "\t# at pos\n",
        "\tdef leftChild(self, pos):\n",
        "\t\treturn 2 * pos\n",
        "\n",
        "\t# Function to return the position of\n",
        "\t# the right child for the node currently\n",
        "\t# at pos\n",
        "\tdef rightChild(self, pos):\n",
        "\t\treturn (2 * pos) + 1\n",
        "\n",
        "\t# Function that returns true if the passed\n",
        "\t# node is a leaf node\n",
        "\tdef isLeaf(self, pos):\n",
        "\t\treturn pos*2 > self.size\n",
        "\n",
        "\t# Function to swap two nodes of the heap\n",
        "\tdef swap(self, fpos, spos):\n",
        "\t\tself.Heap[fpos], self.Heap[spos] = self.Heap[spos], self.Heap[fpos]\n",
        "\n",
        "\t# Function to heapify the node at pos\n",
        "\tdef minHeapify(self, pos):\n",
        "\n",
        "\t\t# If the node is a non-leaf node and greater\n",
        "\t\t# than any of its child\n",
        "\t\tif not self.isLeaf(pos):\n",
        "\t\t\tif (self.Heap[pos] > self.Heap[self.leftChild(pos)] or\n",
        "\t\t\tself.Heap[pos] > self.Heap[self.rightChild(pos)]):\n",
        "\n",
        "\t\t\t\t# Swap with the left child and heapify\n",
        "\t\t\t\t# the left child\n",
        "\t\t\t\tif self.Heap[self.leftChild(pos)] < self.Heap[self.rightChild(pos)]:\n",
        "\t\t\t\t\tself.swap(pos, self.leftChild(pos))\n",
        "\t\t\t\t\tself.minHeapify(self.leftChild(pos))\n",
        "\n",
        "\t\t\t\t# Swap with the right child and heapify\n",
        "\t\t\t\t# the right child\n",
        "\t\t\t\telse:\n",
        "\t\t\t\t\tself.swap(pos, self.rightChild(pos))\n",
        "\t\t\t\t\tself.minHeapify(self.rightChild(pos))\n",
        "\n",
        "\t# Function to insert a node into the heap\n",
        "\tdef insert(self, element):\n",
        "\t\tif self.size >= self.maxsize :\n",
        "\t\t\treturn\n",
        "\t\tself.size+= 1\n",
        "\t\tself.Heap[self.size] = element\n",
        "\n",
        "\t\tcurrent = self.size\n",
        "\n",
        "\t\twhile self.Heap[current] < self.Heap[self.parent(current)]:\n",
        "\t\t\tself.swap(current, self.parent(current))\n",
        "\t\t\tcurrent = self.parent(current)\n",
        "\n",
        "\t# Function to print the contents of the heap\n",
        "\tdef Print(self):\n",
        "\t\tfor i in range(1, (self.size//2)+1):\n",
        "\t\t\tprint(\" PARENT : \"+ str(self.Heap[i])+\" LEFT CHILD : \"+\n",
        "\t\t\t\t\t\t\t\tstr(self.Heap[2 * i])+\" RIGHT CHILD : \"+\n",
        "\t\t\t\t\t\t\t\tstr(self.Heap[2 * i + 1]))\n",
        "\n",
        "\t# Function to build the min heap using\n",
        "\t# the minHeapify function\n",
        "\tdef minHeap(self):\n",
        "\n",
        "\t\tfor pos in range(self.size//2, 0, -1):\n",
        "\t\t\tself.minHeapify(pos)\n",
        "\n",
        "\t# Function to remove and return the minimum\n",
        "\t# element from the heap\n",
        "\tdef remove(self):\n",
        "\n",
        "\t\tpopped = self.Heap[self.FRONT]\n",
        "\t\tself.Heap[self.FRONT] = self.Heap[self.size]\n",
        "\t\tself.size-= 1\n",
        "\t\tself.minHeapify(self.FRONT)\n",
        "\t\treturn popped\n",
        "\n",
        "# Driver Code\n",
        "if __name__ == \"__main__\":\n",
        "\t\n",
        "\tprint('The minHeap is ')\n",
        "\tminHeap = MinHeap(15)\n",
        "\tminHeap.insert(5)\n",
        "\tminHeap.insert(3)\n",
        "\tminHeap.insert(17)\n",
        "\tminHeap.insert(10)\n",
        "\tminHeap.insert(84)\n",
        "\tminHeap.insert(19)\n",
        "\tminHeap.insert(6)\n",
        "\tminHeap.insert(22)\n",
        "\tminHeap.insert(9)\n",
        "\tminHeap.minHeap()\n",
        "\n",
        "\tminHeap.Print()\n",
        "\tprint(\"The Min val is \" + str(minHeap.remove()))\n"
      ],
      "metadata": {
        "colab": {
          "base_uri": "https://localhost:8080/"
        },
        "id": "C5nKlEAZwT24",
        "outputId": "914c06a8-093a-487c-c15e-379490dbc522"
      },
      "execution_count": 1,
      "outputs": [
        {
          "output_type": "stream",
          "name": "stdout",
          "text": [
            "The minHeap is \n",
            " PARENT : 3 LEFT CHILD : 5 RIGHT CHILD : 6\n",
            " PARENT : 5 LEFT CHILD : 9 RIGHT CHILD : 84\n",
            " PARENT : 6 LEFT CHILD : 19 RIGHT CHILD : 17\n",
            " PARENT : 9 LEFT CHILD : 22 RIGHT CHILD : 10\n",
            "The Min val is 3\n"
          ]
        }
      ]
    },
    {
      "cell_type": "code",
      "source": [],
      "metadata": {
        "id": "jIf9pSFhwUUS"
      },
      "execution_count": null,
      "outputs": []
    }
  ]
}