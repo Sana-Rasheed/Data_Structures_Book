{
  "nbformat": 4,
  "nbformat_minor": 0,
  "metadata": {
    "colab": {
      "provenance": []
    },
    "kernelspec": {
      "name": "python3",
      "display_name": "Python 3"
    },
    "language_info": {
      "name": "python"
    }
  },
  "cells": [
    {
      "cell_type": "code",
      "execution_count": 1,
      "metadata": {
        "colab": {
          "base_uri": "https://localhost:8080/"
        },
        "id": "cBcOLc08F6Kz",
        "outputId": "682aa8fe-5515-4360-8fba-5b6f0323bf59"
      },
      "outputs": [
        {
          "output_type": "stream",
          "name": "stdout",
          "text": [
            "Element found at index 4\n"
          ]
        }
      ],
      "source": [
        "# Python3 program to implement\n",
        "# interpolation search\n",
        "# with recursion\n",
        "\n",
        "# If x is present in arr[0..n-1], then\n",
        "# returns index of it, else returns -1.\n",
        "\n",
        "\n",
        "def interpolationSearch(arr, lo, hi, x):\n",
        "\n",
        "\t# Since array is sorted, an element present\n",
        "\t# in array must be in range defined by corner\n",
        "\tif (lo <= hi and x >= arr[lo] and x <= arr[hi]):\n",
        "\n",
        "\t\t# Probing the position with keeping\n",
        "\t\t# uniform distribution in mind.\n",
        "\t\tpos = lo + ((hi - lo) // (arr[hi] - arr[lo]) *\n",
        "\t\t\t\t\t(x - arr[lo]))\n",
        "\n",
        "\t\t# Condition of target found\n",
        "\t\tif arr[pos] == x:\n",
        "\t\t\treturn pos\n",
        "\n",
        "\t\t# If x is larger, x is in right subarray\n",
        "\t\tif arr[pos] < x:\n",
        "\t\t\treturn interpolationSearch(arr, pos + 1,\n",
        "\t\t\t\t\t\t\t\t\thi, x)\n",
        "\n",
        "\t\t# If x is smaller, x is in left subarray\n",
        "\t\tif arr[pos] > x:\n",
        "\t\t\treturn interpolationSearch(arr, lo,\n",
        "\t\t\t\t\t\t\t\t\tpos - 1, x)\n",
        "\treturn -1\n",
        "\n",
        "# Driver code\n",
        "\n",
        "\n",
        "# Array of items in which\n",
        "# search will be conducted\n",
        "arr = [10, 12, 13, 16, 18, 19, 20,\n",
        "\t21, 22, 23, 24, 33, 35, 42, 47]\n",
        "n = len(arr)\n",
        "\n",
        "# Element to be searched\n",
        "x = 18\n",
        "index = interpolationSearch(arr, 0, n - 1, x)\n",
        "\n",
        "if index != -1:\n",
        "\tprint(\"Element found at index\", index)\n",
        "else:\n",
        "\tprint(\"Element not found\")\n",
        "\n"
      ]
    },
    {
      "cell_type": "code",
      "source": [],
      "metadata": {
        "id": "LophfzoDF8Dx"
      },
      "execution_count": null,
      "outputs": []
    }
  ]
}