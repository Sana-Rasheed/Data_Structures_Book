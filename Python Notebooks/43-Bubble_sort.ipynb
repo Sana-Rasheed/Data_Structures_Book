{
  "nbformat": 4,
  "nbformat_minor": 0,
  "metadata": {
    "colab": {
      "provenance": []
    },
    "kernelspec": {
      "name": "python3",
      "display_name": "Python 3"
    },
    "language_info": {
      "name": "python"
    }
  },
  "cells": [
    {
      "cell_type": "markdown",
      "source": [
        "## Bubble Sort"
      ],
      "metadata": {
        "id": "MjvWGgYBhiv1"
      }
    },
    {
      "cell_type": "code",
      "source": [
        "# Bubble sort in Python\n",
        "\n",
        "def bubbleSort(array):\n",
        "    \n",
        "  # loop to access each array element\n",
        "  for i in range(len(array)):\n",
        "\n",
        "    # loop to compare array elements\n",
        "    for j in range(0, len(array) - i - 1):\n",
        "\n",
        "      # compare two adjacent elements\n",
        "      # change > to < to sort in descending order\n",
        "      if array[j] > array[j + 1]:\n",
        "\n",
        "        # swapping elements if elements\n",
        "        # are not in the intended order\n",
        "        temp = array[j]\n",
        "        array[j] = array[j+1]\n",
        "        array[j+1] = temp\n",
        "\n",
        "\n",
        "data = [-2, 45, 0, 11, -9]\n",
        "\n",
        "bubbleSort(data)\n",
        "\n",
        "print('Sorted Array in Ascending Order:')\n",
        "print(data)"
      ],
      "metadata": {
        "colab": {
          "base_uri": "https://localhost:8080/"
        },
        "id": "I9NaA63xhjdF",
        "outputId": "a097fbb2-b0fc-4bc0-ca08-79d666bb850c"
      },
      "execution_count": 1,
      "outputs": [
        {
          "output_type": "stream",
          "name": "stdout",
          "text": [
            "Sorted Array in Ascending Order:\n",
            "[-9, -2, 0, 11, 45]\n"
          ]
        }
      ]
    },
    {
      "cell_type": "markdown",
      "source": [
        "## Optimized Bubble Sort"
      ],
      "metadata": {
        "id": "gkq7ZR9hiBdx"
      }
    },
    {
      "cell_type": "code",
      "source": [
        "# Optimized Bubble sort in Python\n",
        "\n",
        "def bubbleSort(array):\n",
        "    \n",
        "  # loop through each element of array\n",
        "  for i in range(len(array)):\n",
        "        \n",
        "    # keep track of swapping\n",
        "    swapped = False\n",
        "    \n",
        "    # loop to compare array elements\n",
        "    for j in range(0, len(array) - i - 1):\n",
        "\n",
        "      # compare two adjacent elements\n",
        "      # change > to < to sort in descending order\n",
        "      if array[j] > array[j + 1]:\n",
        "\n",
        "        # swapping occurs if elements\n",
        "        # are not in the intended order\n",
        "        temp = array[j]\n",
        "        array[j] = array[j+1]\n",
        "        array[j+1] = temp\n",
        "\n",
        "        swapped = True\n",
        "          \n",
        "    # no swapping means the array is already sorted\n",
        "    # so no need for further comparison\n",
        "    if not swapped:\n",
        "      break\n",
        "\n",
        "data = [-1, 43, 0, 13, -8]\n",
        "\n",
        "bubbleSort(data)\n",
        "\n",
        "print('Sorted Array in Ascending Order:')\n",
        "print(data)"
      ],
      "metadata": {
        "colab": {
          "base_uri": "https://localhost:8080/"
        },
        "id": "pdSDOEjCiB-T",
        "outputId": "795662e1-e010-471c-a233-1edac4441146"
      },
      "execution_count": 1,
      "outputs": [
        {
          "output_type": "stream",
          "name": "stdout",
          "text": [
            "Sorted Array in Ascending Order:\n",
            "[-8, -1, 0, 13, 43]\n"
          ]
        }
      ]
    },
    {
      "cell_type": "code",
      "source": [],
      "metadata": {
        "id": "M50zjEmyiDl1"
      },
      "execution_count": null,
      "outputs": []
    }
  ]
}