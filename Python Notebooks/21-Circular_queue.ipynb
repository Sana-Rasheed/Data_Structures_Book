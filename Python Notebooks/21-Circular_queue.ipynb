{
  "nbformat": 4,
  "nbformat_minor": 0,
  "metadata": {
    "colab": {
      "provenance": [],
      "collapsed_sections": []
    },
    "kernelspec": {
      "name": "python3",
      "display_name": "Python 3"
    },
    "language_info": {
      "name": "python"
    }
  },
  "cells": [
    {
      "cell_type": "code",
      "execution_count": 1,
      "metadata": {
        "colab": {
          "base_uri": "https://localhost:8080/"
        },
        "id": "rPrgMMeQPykn",
        "outputId": "51cd4e1b-9080-4ae8-ac3f-6761be275b7d"
      },
      "outputs": [
        {
          "output_type": "stream",
          "name": "stdout",
          "text": [
            "Elements in the circular queue are: 14 22 13 -6 \n",
            "Deleted value =  14\n",
            "Deleted value =  22\n",
            "Elements in the circular queue are: 13 -6 \n",
            "Elements in Circular Queue are: 13 -6 9 20 5 \n",
            "Queue is Full\n"
          ]
        }
      ],
      "source": [
        "class CircularQueue():\n",
        "\n",
        "\t# constructor\n",
        "\tdef __init__(self, size): # initializing the class\n",
        "\t\tself.size = size\n",
        "\t\t\n",
        "\t\t# initializing queue with none\n",
        "\t\tself.queue = [None for i in range(size)]\n",
        "\t\tself.front = self.rear = -1\n",
        "\n",
        "\tdef enqueue(self, data):\n",
        "\t\t\n",
        "\t\t# condition if queue is full\n",
        "\t\tif ((self.rear + 1) % self.size == self.front):\n",
        "\t\t\tprint(\" Queue is Full\\n\")\n",
        "\t\t\t\n",
        "\t\t# condition for empty queue\n",
        "\t\telif (self.front == -1):\n",
        "\t\t\tself.front = 0\n",
        "\t\t\tself.rear = 0\n",
        "\t\t\tself.queue[self.rear] = data\n",
        "\t\telse:\n",
        "\t\t\t\n",
        "\t\t\t# next position of rear\n",
        "\t\t\tself.rear = (self.rear + 1) % self.size\n",
        "\t\t\tself.queue[self.rear] = data\n",
        "\t\t\t\n",
        "\tdef dequeue(self):\n",
        "\t\tif (self.front == -1): # condition for empty queue\n",
        "\t\t\tprint (\"Queue is Empty\\n\")\n",
        "\t\t\t\n",
        "\t\t# condition for only one element\n",
        "\t\telif (self.front == self.rear):\n",
        "\t\t\ttemp=self.queue[self.front]\n",
        "\t\t\tself.front = -1\n",
        "\t\t\tself.rear = -1\n",
        "\t\t\treturn temp\n",
        "\t\telse:\n",
        "\t\t\ttemp = self.queue[self.front]\n",
        "\t\t\tself.front = (self.front + 1) % self.size\n",
        "\t\t\treturn temp\n",
        "\n",
        "\tdef display(self):\n",
        "\t\n",
        "\t\t# condition for empty queue\n",
        "\t\tif(self.front == -1):\n",
        "\t\t\tprint (\"Queue is Empty\")\n",
        "\n",
        "\t\telif (self.rear >= self.front):\n",
        "\t\t\tprint(\"Elements in the circular queue are:\",\n",
        "\t\t\t\t\t\t\t\t\t\t\tend = \" \")\n",
        "\t\t\tfor i in range(self.front, self.rear + 1):\n",
        "\t\t\t\tprint(self.queue[i], end = \" \")\n",
        "\t\t\tprint ()\n",
        "\n",
        "\t\telse:\n",
        "\t\t\tprint (\"Elements in Circular Queue are:\",\n",
        "\t\t\t\t\t\t\t\t\t\tend = \" \")\n",
        "\t\t\tfor i in range(self.front, self.size):\n",
        "\t\t\t\tprint(self.queue[i], end = \" \")\n",
        "\t\t\tfor i in range(0, self.rear + 1):\n",
        "\t\t\t\tprint(self.queue[i], end = \" \")\n",
        "\t\t\tprint ()\n",
        "\n",
        "\t\tif ((self.rear + 1) % self.size == self.front):\n",
        "\t\t\tprint(\"Queue is Full\")\n",
        "\n",
        "# Driver Code\n",
        "ob = CircularQueue(5)\n",
        "ob.enqueue(14)\n",
        "ob.enqueue(22)\n",
        "ob.enqueue(13)\n",
        "ob.enqueue(-6)\n",
        "ob.display()\n",
        "print (\"Deleted value = \", ob.dequeue())\n",
        "print (\"Deleted value = \", ob.dequeue())\n",
        "ob.display()\n",
        "ob.enqueue(9)\n",
        "ob.enqueue(20)\n",
        "ob.enqueue(5)\n",
        "ob.display()\n",
        "\n"
      ]
    }
  ]
}