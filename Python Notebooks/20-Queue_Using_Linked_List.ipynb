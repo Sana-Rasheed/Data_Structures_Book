{
  "nbformat": 4,
  "nbformat_minor": 0,
  "metadata": {
    "colab": {
      "provenance": [],
      "collapsed_sections": []
    },
    "kernelspec": {
      "name": "python3",
      "display_name": "Python 3"
    },
    "language_info": {
      "name": "python"
    }
  },
  "cells": [
    {
      "cell_type": "code",
      "source": [
        "# Python3 program to demonstrate linked list\n",
        "# based implementation of queue\n",
        "\n",
        "# A linked list (LL) node\n",
        "# to store a queue entry\n",
        "\n",
        "\n",
        "class Node:\n",
        "\n",
        "\tdef __init__(self, data):\n",
        "\t\tself.data = data\n",
        "\t\tself.next = None\n",
        "\n",
        "# A class to represent a queue\n",
        "\n",
        "# The queue, front stores the front node\n",
        "# of LL and rear stores the last node of LL\n",
        "\n",
        "\n",
        "class Queue:\n",
        "\n",
        "\tdef __init__(self):\n",
        "\t\tself.front = self.rear = None\n",
        "\n",
        "\tdef isEmpty(self):\n",
        "\t\treturn self.front == None\n",
        "\n",
        "\t# Method to add an item to the queue\n",
        "\tdef EnQueue(self, item):\n",
        "\t\ttemp = Node(item)\n",
        "\n",
        "\t\tif self.rear == None:\n",
        "\t\t\tself.front = self.rear = temp\n",
        "\t\t\treturn\n",
        "\t\tself.rear.next = temp\n",
        "\t\tself.rear = temp\n",
        "\n",
        "\t# Method to remove an item from queue\n",
        "\tdef DeQueue(self):\n",
        "\n",
        "\t\tif self.isEmpty():\n",
        "\t\t\treturn\n",
        "\t\ttemp = self.front\n",
        "\t\tself.front = temp.next\n",
        "\n",
        "\t\tif(self.front == None):\n",
        "\t\t\tself.rear = None\n",
        "\n",
        "\n",
        "# Driver Code\n",
        "if __name__ == '__main__':\n",
        "\tq = Queue()\n",
        "\tq.EnQueue(10)\n",
        "\tq.EnQueue(20)\n",
        "\tq.DeQueue()\n",
        "\tq.DeQueue()\n",
        "\tq.EnQueue(30)\n",
        "\tq.EnQueue(40)\n",
        "\tq.EnQueue(50)\n",
        "\tq.DeQueue()\n",
        "\tprint(\"Queue Front : \" + str(q.front.data))\n",
        "\tprint(\"Queue Rear : \" + str(q.rear.data))\n"
      ],
      "metadata": {
        "colab": {
          "base_uri": "https://localhost:8080/"
        },
        "id": "4jbTJLC0okfm",
        "outputId": "cb35ee8f-9c43-4ce8-8d3f-bb4b2a9a47bc"
      },
      "execution_count": 1,
      "outputs": [
        {
          "output_type": "stream",
          "name": "stdout",
          "text": [
            "Queue Front : 40\n",
            "Queue Rear : 50\n"
          ]
        }
      ]
    }
  ]
}