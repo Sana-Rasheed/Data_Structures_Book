{
  "nbformat": 4,
  "nbformat_minor": 0,
  "metadata": {
    "colab": {
      "provenance": [],
      "collapsed_sections": []
    },
    "kernelspec": {
      "name": "python3",
      "display_name": "Python 3"
    },
    "language_info": {
      "name": "python"
    }
  },
  "cells": [
    {
      "cell_type": "markdown",
      "source": [
        "## Creating a node"
      ],
      "metadata": {
        "id": "EXVX2UGv9hlw"
      }
    },
    {
      "cell_type": "code",
      "source": [
        "# Implementing Python Tree Data Structure\n",
        "# Creating a class for node object\n",
        "class Node(object):\n",
        "    # Initializing to None\n",
        "    def __init__(self):\n",
        "        self.left = None\n",
        "        self.right = None\n",
        "        self.data = None"
      ],
      "metadata": {
        "id": "vGoxWKmr9i18"
      },
      "execution_count": 1,
      "outputs": []
    },
    {
      "cell_type": "markdown",
      "source": [
        "## Insertion in Binary Search Tree"
      ],
      "metadata": {
        "id": "Z69m31xl9xYF"
      }
    },
    {
      "cell_type": "code",
      "source": [
        "# Implementing Python Tree Data Structure\n",
        "# Creating a class for node object\n",
        "class Node(object):\n",
        "    # Initializing to None\n",
        "    def __init__(self):\n",
        "        self.left = None\n",
        "        self.right = None\n",
        "        self.data = None\n",
        "\n",
        "# Inserting a node in Binary search tree\n",
        "def insertion(val):\n",
        "    # Condition if this is a first node then it will be considered as a root\n",
        "    if(root.data==None):\n",
        "        print(val,\" Inserted as root\")\n",
        "        root.data=val\n",
        "    # Else part will be executed for all the other insertions\n",
        "    else:\n",
        "        # Pointer to move around tree to search for a place of new node\n",
        "        p=root\n",
        "        \n",
        "        # Creating a new node and writing a value in the data part\n",
        "        n = Node()\n",
        "        n.data=val\n",
        "        \n",
        "        # Iterating to search for an appropriate place of new node\n",
        "        while(1):\n",
        "            # if val is less than the current node p indicates that new node will be inserted on left subtree\n",
        "            if(val<p.data):\n",
        "                if(p.left==None):\n",
        "                    print(val,\" Inserted on left of \",p.data)\n",
        "                    p.left=n\n",
        "                    break\n",
        "                else:\n",
        "                    p=p.left\n",
        "            # if val is greater than the current node p indicates that new node will be inserted on right subtree\n",
        "            else:\n",
        "                if(p.right==None):\n",
        "                    print(val,\" Inserted on right of\",p.data)\n",
        "                    p.right=n\n",
        "                    break\n",
        "                else:\n",
        "                    p=p.right\n",
        "\n",
        "root = Node()  \n",
        "insertion(10)\n",
        "insertion(5)\n",
        "insertion(20)\n",
        "insertion(30)\n",
        "insertion(25)\n",
        "insertion(2)\n"
      ],
      "metadata": {
        "colab": {
          "base_uri": "https://localhost:8080/"
        },
        "id": "ZCQgKk209yFC",
        "outputId": "1c8d244e-f769-4b2a-d806-e8962b8b489e"
      },
      "execution_count": 6,
      "outputs": [
        {
          "output_type": "stream",
          "name": "stdout",
          "text": [
            "10  Inserted as root\n",
            "5  Inserted on left of  10\n",
            "20  Inserted on right of 10\n",
            "30  Inserted on right of 20\n",
            "25  Inserted on left of  30\n",
            "2  Inserted on left of  5\n"
          ]
        }
      ]
    },
    {
      "cell_type": "markdown",
      "source": [
        "## Search for a value in binary tree\n"
      ],
      "metadata": {
        "id": "tXK0Rh_K-y_1"
      }
    },
    {
      "cell_type": "code",
      "source": [
        "# Creating node class\n",
        "class Node:\n",
        "    def __init__(self, data):\n",
        "        self.data = data\n",
        "        self.leftChild = None\n",
        "        self.rightChild = None\n",
        "\n",
        "# Function to insert in BST\n",
        "    def insert(self, data):\n",
        "        # if value is lesser than the value of the parent node\n",
        "        if data < self.data:\n",
        "            if self.leftChild:\n",
        "                # if we still need to move towards the left subtree\n",
        "                self.leftChild.insert(data)\n",
        "            else:\n",
        "                self.leftChild = Node(data)\n",
        "                return\n",
        "        # if value is greater than the value of the parent node        \n",
        "        else:\n",
        "            if self.rightChild:\n",
        "                # if we still need to move towards the right subtree\n",
        "                self.rightChild.insert(data)\n",
        "            else:\n",
        "                self.rightChild = Node(data)\n",
        "                return\n",
        "\n",
        "# Function to search in BST\n",
        "    def search(self, val):\n",
        "        # if value to be searched is found\n",
        "        if val==self.data:\n",
        "            return str(val)+\" is found in the BST\"\n",
        "        # if value is lesser than the value of the parent node\n",
        "        elif val < self.data:\n",
        "            # if we still need to move towards the left subtree\n",
        "            if self.leftChild:\n",
        "                return self.leftChild.search(val)\n",
        "            else:\n",
        "                return str(val)+\" is not found in the BST\"\n",
        "        # if value is greater than the value of the parent node\n",
        "        else:\n",
        "            # if we still need to move towards the right subtree\n",
        "            if self.rightChild:\n",
        "                return self.rightChild.search(val)\n",
        "            else:\n",
        "                return str(val)+\" is not found in the BST\" \n",
        "       \n",
        "            \n",
        "    # function to print a BST\n",
        "    def PrintTree(self):\n",
        "        if self.leftChild:\n",
        "            self.leftChild.PrintTree()\n",
        "        print( self.data),\n",
        "        if self.rightChild:\n",
        "            self.rightChild.PrintTree()\n",
        "\n",
        "# Creating root node\n",
        "root = Node(27)\n",
        "# Inserting values in BST\n",
        "root.insert(14)\n",
        "root.insert(35)\n",
        "root.insert(31)\n",
        "root.insert(10)\n",
        "root.insert(19)\n",
        "# searching the values\n",
        "print(root.search(7))\n",
        "print(root.search(14))"
      ],
      "metadata": {
        "colab": {
          "base_uri": "https://localhost:8080/"
        },
        "id": "RRkO3JyE_J1E",
        "outputId": "71f3f344-7000-478d-b3f3-f22771b81d69"
      },
      "execution_count": 9,
      "outputs": [
        {
          "output_type": "stream",
          "name": "stdout",
          "text": [
            "7 is not found in the BST\n",
            "14 is found in the BST\n"
          ]
        }
      ]
    },
    {
      "cell_type": "code",
      "source": [],
      "metadata": {
        "id": "wBmo-Z2l_ZzD"
      },
      "execution_count": null,
      "outputs": []
    }
  ]
}