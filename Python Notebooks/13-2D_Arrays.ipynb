{
  "nbformat": 4,
  "nbformat_minor": 0,
  "metadata": {
    "colab": {
      "provenance": [],
      "collapsed_sections": []
    },
    "kernelspec": {
      "name": "python3",
      "display_name": "Python 3"
    },
    "language_info": {
      "name": "python"
    }
  },
  "cells": [
    {
      "cell_type": "markdown",
      "source": [
        "## Creating Array"
      ],
      "metadata": {
        "id": "xds9ou8EHGbj"
      }
    },
    {
      "cell_type": "code",
      "execution_count": 1,
      "metadata": {
        "colab": {
          "base_uri": "https://localhost:8080/"
        },
        "id": "kJkyGJeY8Z0S",
        "outputId": "2cb026b4-e6a8-4380-f486-fd34955e827e"
      },
      "outputs": [
        {
          "output_type": "stream",
          "name": "stdout",
          "text": [
            "[[23, 45, 43, 23, 45], [45, 67, 54, 32, 45], [89, 90, 87, 65, 44], [23, 45, 67, 32, 10]]\n"
          ]
        }
      ],
      "source": [
        "array=[[23,45,43,23,45],[45,67,54,32,45],[89,90,87,65,44],[23,45,67,32,10]]\n",
        "#display\n",
        "print(array)"
      ]
    },
    {
      "cell_type": "markdown",
      "source": [
        "## Accessing Values"
      ],
      "metadata": {
        "id": "h-lOnryJHTW6"
      }
    },
    {
      "cell_type": "code",
      "source": [
        "from array import *\n",
        "\n",
        "T = [[11, 12, 5, 2], [15, 6,10], [10, 8, 12, 5], [12,15,8,6]]\n",
        "\n",
        "print(T[0])\n",
        "\n",
        "print(T[1][2])"
      ],
      "metadata": {
        "colab": {
          "base_uri": "https://localhost:8080/"
        },
        "id": "u-buxA678lOL",
        "outputId": "8a5f47e3-5211-458b-c416-d134215d6e82"
      },
      "execution_count": 1,
      "outputs": [
        {
          "output_type": "stream",
          "name": "stdout",
          "text": [
            "[11, 12, 5, 2]\n",
            "10\n"
          ]
        }
      ]
    },
    {
      "cell_type": "code",
      "source": [
        "from array import *\n",
        "\n",
        "T = [[11, 12, 5, 2], [15, 6,10], [10, 8, 12, 5], [12,15,8,6]]\n",
        "for r in T:\n",
        "   for c in r:\n",
        "      print(c,end = \" \")\n",
        "   print()"
      ],
      "metadata": {
        "colab": {
          "base_uri": "https://localhost:8080/"
        },
        "id": "QMfJn8cm95Wh",
        "outputId": "ff05378c-ddfe-447d-c045-3e249e1b470d"
      },
      "execution_count": 2,
      "outputs": [
        {
          "output_type": "stream",
          "name": "stdout",
          "text": [
            "11 12 5 2 \n",
            "15 6 10 \n",
            "10 8 12 5 \n",
            "12 15 8 6 \n"
          ]
        }
      ]
    },
    {
      "cell_type": "markdown",
      "source": [
        "## Inserting Values"
      ],
      "metadata": {
        "id": "af3FZy4aDKZ2"
      }
    },
    {
      "cell_type": "code",
      "source": [
        "from array import *\n",
        "T = [[11, 12, 5, 2], [15, 6,10], [10, 8, 12, 5], [12,15,8,6]]\n",
        "\n",
        "T.insert(2, [0,5,11,13,6])\n",
        "\n",
        "for r in T:\n",
        "   for c in r:\n",
        "      print(c,end = \" \")\n",
        "   print()"
      ],
      "metadata": {
        "colab": {
          "base_uri": "https://localhost:8080/"
        },
        "id": "C9AJNJBFDJzR",
        "outputId": "89548da0-5f5d-405e-eb57-f161d68c378e"
      },
      "execution_count": 3,
      "outputs": [
        {
          "output_type": "stream",
          "name": "stdout",
          "text": [
            "11 12 5 2 \n",
            "15 6 10 \n",
            "0 5 11 13 6 \n",
            "10 8 12 5 \n",
            "12 15 8 6 \n"
          ]
        }
      ]
    },
    {
      "cell_type": "markdown",
      "source": [
        "## Updating Values"
      ],
      "metadata": {
        "id": "BK0df0NdEfqF"
      }
    },
    {
      "cell_type": "code",
      "source": [
        "from array import *\n",
        "\n",
        "T = [[11, 12, 5, 2], [15, 6,10], [10, 8, 12, 5], [12,15,8,6]]\n",
        "\n",
        "T[2] = [11,9]\n",
        "T[0][3] = 7\n",
        "for r in T:\n",
        "   for c in r:\n",
        "      print(c,end = \" \")\n",
        "   print()"
      ],
      "metadata": {
        "colab": {
          "base_uri": "https://localhost:8080/"
        },
        "id": "ZFzAArHfEgRg",
        "outputId": "db21536d-709d-49b2-e184-49b32c6acd2b"
      },
      "execution_count": 4,
      "outputs": [
        {
          "output_type": "stream",
          "name": "stdout",
          "text": [
            "11 12 5 7 \n",
            "15 6 10 \n",
            "11 9 \n",
            "12 15 8 6 \n"
          ]
        }
      ]
    },
    {
      "cell_type": "markdown",
      "source": [
        "## Deleting the Values\n"
      ],
      "metadata": {
        "id": "8NzM_0ziGI6y"
      }
    },
    {
      "cell_type": "code",
      "source": [
        "from array import *\n",
        "T = [[11, 12, 5, 2], [15, 6,10], [10, 8, 12, 5], [12,15,8,6]]\n",
        "\n",
        "del T[3]\n",
        "\n",
        "for r in T:\n",
        "   for c in r:\n",
        "      print(c,end = \" \")\n",
        "   print()"
      ],
      "metadata": {
        "colab": {
          "base_uri": "https://localhost:8080/"
        },
        "id": "a1XKGGZhGJfW",
        "outputId": "a281d707-6ab9-4780-e525-4b14d17ee3d8"
      },
      "execution_count": 5,
      "outputs": [
        {
          "output_type": "stream",
          "name": "stdout",
          "text": [
            "11 12 5 2 \n",
            "15 6 10 \n",
            "10 8 12 5 \n"
          ]
        }
      ]
    },
    {
      "cell_type": "code",
      "source": [],
      "metadata": {
        "id": "IPDgQg2JGMky"
      },
      "execution_count": null,
      "outputs": []
    }
  ]
}