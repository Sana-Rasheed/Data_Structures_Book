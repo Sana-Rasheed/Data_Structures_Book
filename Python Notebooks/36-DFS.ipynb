{
  "nbformat": 4,
  "nbformat_minor": 0,
  "metadata": {
    "colab": {
      "provenance": []
    },
    "kernelspec": {
      "name": "python3",
      "display_name": "Python 3"
    },
    "language_info": {
      "name": "python"
    }
  },
  "cells": [
    {
      "cell_type": "code",
      "source": [
        "# Python3 program to print DFS traversal\n",
        "# from a given graph\n",
        "from collections import defaultdict\n",
        "\n",
        "# This class represents a directed graph using\n",
        "# adjacency list representation\n",
        "\n",
        "\n",
        "class Graph:\n",
        "\n",
        "\t# Constructor\n",
        "\tdef __init__(self):\n",
        "\n",
        "\t\t# default dictionary to store graph\n",
        "\t\tself.graph = defaultdict(list)\n",
        "\n",
        "\t# function to add an edge to graph\n",
        "\tdef addEdge(self, u, v):\n",
        "\t\tself.graph[u].append(v)\n",
        "\n",
        "\t# A function used by DFS\n",
        "\tdef DFSUtil(self, v, visited):\n",
        "\n",
        "\t\t# Mark the current node as visited\n",
        "\t\t# and print it\n",
        "\t\tvisited.add(v)\n",
        "\t\tprint(v, end=' ')\n",
        "\n",
        "\t\t# Recur for all the vertices\n",
        "\t\t# adjacent to this vertex\n",
        "\t\tfor neighbour in self.graph[v]:\n",
        "\t\t\tif neighbour not in visited:\n",
        "\t\t\t\tself.DFSUtil(neighbour, visited)\n",
        "\n",
        "\t# The function to do DFS traversal. It uses\n",
        "\t# recursive DFSUtil()\n",
        "\tdef DFS(self, v):\n",
        "\n",
        "\t\t# Create a set to store visited vertices\n",
        "\t\tvisited = set()\n",
        "\n",
        "\t\t# Call the recursive helper function\n",
        "\t\t# to print DFS traversal\n",
        "\t\tself.DFSUtil(v, visited)\n",
        "\n",
        "# Driver's code\n",
        "\n",
        "\n",
        "# Create a graph given\n",
        "# in the above diagram\n",
        "if __name__ == \"__main__\":\n",
        "\tg = Graph()\n",
        "\tg.addEdge(0, 1)\n",
        "\tg.addEdge(0, 2)\n",
        "\tg.addEdge(1, 2)\n",
        "\tg.addEdge(2, 0)\n",
        "\tg.addEdge(2, 3)\n",
        "\tg.addEdge(3, 3)\n",
        "\n",
        "\tprint(\"Following is DFS from (starting from vertex 2)\")\n",
        "\t# Function call\n",
        "\tg.DFS(2)\n",
        "\n"
      ],
      "metadata": {
        "colab": {
          "base_uri": "https://localhost:8080/"
        },
        "id": "7nnyCQlhuJFa",
        "outputId": "a9ebca72-b530-4f1e-86fb-92cfcf3c8a13"
      },
      "execution_count": 2,
      "outputs": [
        {
          "output_type": "stream",
          "name": "stdout",
          "text": [
            "Following is DFS from (starting from vertex 2)\n",
            "2 0 1 3 "
          ]
        }
      ]
    },
    {
      "cell_type": "code",
      "source": [],
      "metadata": {
        "id": "4xKKzVt86vLg"
      },
      "execution_count": null,
      "outputs": []
    }
  ]
}