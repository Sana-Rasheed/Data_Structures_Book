{
  "nbformat": 4,
  "nbformat_minor": 0,
  "metadata": {
    "colab": {
      "provenance": []
    },
    "kernelspec": {
      "name": "python3",
      "display_name": "Python 3"
    },
    "language_info": {
      "name": "python"
    }
  },
  "cells": [
    {
      "cell_type": "code",
      "execution_count": 1,
      "metadata": {
        "colab": {
          "base_uri": "https://localhost:8080/"
        },
        "id": "dpnCXzftD7rX",
        "outputId": "db112994-9ac1-467e-e64f-3c00bc6d9fd3"
      },
      "outputs": [
        {
          "output_type": "stream",
          "name": "stdout",
          "text": [
            "Element found at index:  3\n"
          ]
        }
      ],
      "source": [
        "# Linear Search in Python\n",
        "\n",
        "\n",
        "def linearSearch(array, n, x):\n",
        "\n",
        "    # Going through array sequencially\n",
        "    for i in range(0, n):\n",
        "        if (array[i] == x):\n",
        "            return i\n",
        "    return -1\n",
        "\n",
        "\n",
        "array = [2, 4, 0, 1, 9]\n",
        "x = 1\n",
        "n = len(array)\n",
        "result = linearSearch(array, n, x)\n",
        "if(result == -1):\n",
        "    print(\"Element not found\")\n",
        "else:\n",
        "    print(\"Element found at index: \", result)"
      ]
    },
    {
      "cell_type": "code",
      "source": [],
      "metadata": {
        "id": "0DrNzX0hD-Wf"
      },
      "execution_count": null,
      "outputs": []
    }
  ]
}