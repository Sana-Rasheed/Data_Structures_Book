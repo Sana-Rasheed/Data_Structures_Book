{
  "nbformat": 4,
  "nbformat_minor": 0,
  "metadata": {
    "colab": {
      "provenance": []
    },
    "kernelspec": {
      "name": "python3",
      "display_name": "Python 3"
    },
    "language_info": {
      "name": "python"
    }
  },
  "cells": [
    {
      "cell_type": "code",
      "source": [
        "# Insertion sort in Python\n",
        "\n",
        "\n",
        "def insertionSort(array):\n",
        "\n",
        "    for step in range(1, len(array)):\n",
        "        key = array[step]\n",
        "        j = step - 1\n",
        "        \n",
        "        # Compare key with each element on the left of it until an element smaller than it is found\n",
        "        # For descending order, change key<array[j] to key>array[j].        \n",
        "        while j >= 0 and key < array[j]:\n",
        "            array[j + 1] = array[j]\n",
        "            j = j - 1\n",
        "        \n",
        "        # Place key at after the element just smaller than it.\n",
        "        array[j + 1] = key\n",
        "\n",
        "\n",
        "data = [9, 5, 1, 4, 3]\n",
        "insertionSort(data)\n",
        "print('Sorted Array in Ascending Order:')\n",
        "print(data)"
      ],
      "metadata": {
        "colab": {
          "base_uri": "https://localhost:8080/"
        },
        "id": "KHE24UjIoCtE",
        "outputId": "7a28902f-92e3-4f22-b74b-c9f267c4fa43"
      },
      "execution_count": 1,
      "outputs": [
        {
          "output_type": "stream",
          "name": "stdout",
          "text": [
            "Sorted Array in Ascending Order:\n",
            "[1, 3, 4, 5, 9]\n"
          ]
        }
      ]
    },
    {
      "cell_type": "code",
      "source": [
        "# Python program for implementation of Insertion Sort\n",
        "\n",
        "# Function to do insertion sort\n",
        "def insertionSort(arr):\n",
        "\n",
        "\t# Traverse through 1 to len(arr)\n",
        "\tfor i in range(1, len(arr)):\n",
        "\n",
        "\t\tkey = arr[i]\n",
        "\n",
        "\t\t# Move elements of arr[0..i-1], that are\n",
        "\t\t# greater than key, to one position ahead\n",
        "\t\t# of their current position\n",
        "\t\tj = i-1\n",
        "\t\twhile j >= 0 and key < arr[j] :\n",
        "\t\t\t\tarr[j + 1] = arr[j]\n",
        "\t\t\t\tj -= 1\n",
        "\t\tarr[j + 1] = key\n",
        "\n",
        "\n",
        "# Driver code to test above\n",
        "arr = [12, 11, 13, 5, 6]\n",
        "insertionSort(arr)\n",
        "for i in range(len(arr)):\n",
        "\tprint (\"% d\" % arr[i])\n",
        "\n"
      ],
      "metadata": {
        "colab": {
          "base_uri": "https://localhost:8080/"
        },
        "id": "20kc9Ej3oDKA",
        "outputId": "0de129a2-dbe6-4f75-d23a-5eb61b8e1090"
      },
      "execution_count": 2,
      "outputs": [
        {
          "output_type": "stream",
          "name": "stdout",
          "text": [
            " 5\n",
            " 6\n",
            " 11\n",
            " 12\n",
            " 13\n"
          ]
        }
      ]
    }
  ]
}