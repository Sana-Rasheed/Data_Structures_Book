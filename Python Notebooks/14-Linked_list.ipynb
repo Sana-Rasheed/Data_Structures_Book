{
  "nbformat": 4,
  "nbformat_minor": 0,
  "metadata": {
    "colab": {
      "provenance": [],
      "collapsed_sections": []
    },
    "kernelspec": {
      "name": "python3",
      "display_name": "Python 3"
    },
    "language_info": {
      "name": "python"
    }
  },
  "cells": [
    {
      "cell_type": "markdown",
      "source": [
        "## Creation of Linked list"
      ],
      "metadata": {
        "id": "skpQotJ1VwOl"
      }
    },
    {
      "cell_type": "code",
      "execution_count": 1,
      "metadata": {
        "id": "pwbgEIeEBrlz"
      },
      "outputs": [],
      "source": [
        "class Node:\n",
        "   def __init__(self, dataval=None):\n",
        "      self.dataval = dataval\n",
        "      self.nextval = None\n",
        "\n",
        "class SLinkedList:\n",
        "   def __init__(self):\n",
        "      self.headval = None\n",
        "\n",
        "list1 = SLinkedList()\n",
        "list1.headval = Node(\"Mon\")\n",
        "e2 = Node(\"Tue\")\n",
        "e3 = Node(\"Wed\")\n",
        "# Link first Node to second node\n",
        "list1.headval.nextval = e2\n",
        "\n",
        "# Link second Node to third node\n",
        "e2.nextval = e3"
      ]
    },
    {
      "cell_type": "markdown",
      "source": [
        "## Traversing a Linked List"
      ],
      "metadata": {
        "id": "tLBsF4I5B9ea"
      }
    },
    {
      "cell_type": "code",
      "source": [
        "class Node:\n",
        "   def __init__(self, dataval=None):\n",
        "      self.dataval = dataval\n",
        "      self.nextval = None\n",
        "\n",
        "class SLinkedList:\n",
        "   def __init__(self):\n",
        "      self.headval = None\n",
        "\n",
        "   def listprint(self):\n",
        "      printval = self.headval\n",
        "      while printval is not None:\n",
        "         print (printval.dataval)\n",
        "         printval = printval.nextval\n",
        "\n",
        "list = SLinkedList()\n",
        "list.headval = Node(\"Mon\")\n",
        "e2 = Node(\"Tue\")\n",
        "e3 = Node(\"Wed\")\n",
        "\n",
        "# Link first Node to second node\n",
        "list.headval.nextval = e2\n",
        "\n",
        "# Link second Node to third node\n",
        "e2.nextval = e3\n",
        "\n",
        "list.listprint()"
      ],
      "metadata": {
        "colab": {
          "base_uri": "https://localhost:8080/"
        },
        "id": "kvVq5BYZCBXL",
        "outputId": "3b4067f9-a56d-4ef2-8bc5-1eb5ebdf9a97"
      },
      "execution_count": 4,
      "outputs": [
        {
          "output_type": "stream",
          "name": "stdout",
          "text": [
            "Mon\n",
            "Tue\n",
            "Wed\n"
          ]
        }
      ]
    },
    {
      "cell_type": "markdown",
      "source": [
        "## Insertion in a Linked List\n",
        "### Inserting at the Beginning"
      ],
      "metadata": {
        "id": "S2nFUp4bCL1U"
      }
    },
    {
      "cell_type": "code",
      "source": [
        "class Node:\n",
        "   def __init__(self, dataval=None):\n",
        "      self.dataval = dataval\n",
        "      self.nextval = None\n",
        "\n",
        "class SLinkedList:\n",
        "   def __init__(self):\n",
        "      self.headval = None\n",
        "# Print the linked list\n",
        "   def listprint(self):\n",
        "      printval = self.headval\n",
        "      while printval is not None:\n",
        "         print (printval.dataval)\n",
        "         printval = printval.nextval\n",
        "   def AtBegining(self,newdata):\n",
        "      NewNode = Node(newdata)\n",
        "\n",
        "# Update the new nodes next val to existing node\n",
        "      NewNode.nextval = self.headval\n",
        "      self.headval = NewNode\n",
        "\n",
        "list = SLinkedList()\n",
        "list.headval = Node(\"Mon\")\n",
        "e2 = Node(\"Tue\")\n",
        "e3 = Node(\"Wed\")\n",
        "\n",
        "list.headval.nextval = e2\n",
        "e2.nextval = e3\n",
        "\n",
        "list.AtBegining(\"Sun\")\n",
        "list.listprint()"
      ],
      "metadata": {
        "colab": {
          "base_uri": "https://localhost:8080/"
        },
        "id": "D8khX0-xCUlS",
        "outputId": "0ce4da17-32fa-4ea0-835f-03c1b8b6d29f"
      },
      "execution_count": 8,
      "outputs": [
        {
          "output_type": "stream",
          "name": "stdout",
          "text": [
            "Sun\n",
            "Mon\n",
            "Tue\n",
            "Wed\n"
          ]
        }
      ]
    },
    {
      "cell_type": "markdown",
      "source": [
        "### Inserting at the End\n"
      ],
      "metadata": {
        "id": "aiyVHhZyG1og"
      }
    },
    {
      "cell_type": "code",
      "source": [
        "class Node:\n",
        "   def __init__(self, dataval=None):\n",
        "      self.dataval = dataval\n",
        "      self.nextval = None\n",
        "class SLinkedList:\n",
        "   def __init__(self):\n",
        "      self.headval = None\n",
        "# Function to add newnode\n",
        "   def AtEnd(self, newdata):\n",
        "      NewNode = Node(newdata)\n",
        "      if self.headval is None:\n",
        "         self.headval = NewNode\n",
        "         return\n",
        "      laste = self.headval\n",
        "      while(laste.nextval):\n",
        "         laste = laste.nextval\n",
        "      laste.nextval=NewNode\n",
        "# Print the linked list\n",
        "   def listprint(self):\n",
        "      printval = self.headval\n",
        "      while printval is not None:\n",
        "         print (printval.dataval)\n",
        "         printval = printval.nextval\n",
        "\n",
        "list = SLinkedList()\n",
        "list.headval = Node(\"Mon\")\n",
        "e2 = Node(\"Tue\")\n",
        "e3 = Node(\"Wed\")\n",
        "\n",
        "list.headval.nextval = e2\n",
        "e2.nextval = e3\n",
        "\n",
        "list.AtEnd(\"Thu\")\n",
        "\n",
        "list.listprint()"
      ],
      "metadata": {
        "colab": {
          "base_uri": "https://localhost:8080/"
        },
        "id": "TUwBTiMxHC85",
        "outputId": "9f5d09f3-46a2-41ca-d6e2-92483bab2805"
      },
      "execution_count": 9,
      "outputs": [
        {
          "output_type": "stream",
          "name": "stdout",
          "text": [
            "Mon\n",
            "Tue\n",
            "Wed\n",
            "Thu\n"
          ]
        }
      ]
    },
    {
      "cell_type": "markdown",
      "source": [
        "## Inserting in between two Data Nodes"
      ],
      "metadata": {
        "id": "IiY5iHaRHUU8"
      }
    },
    {
      "cell_type": "code",
      "source": [
        "class Node:\n",
        "   def __init__(self, dataval=None):\n",
        "      self.dataval = dataval\n",
        "      self.nextval = None\n",
        "class SLinkedList:\n",
        "   def __init__(self):\n",
        "      self.headval = None\n",
        "\n",
        "# Function to add node\n",
        "   def Inbetween(self,middle_node,newdata):\n",
        "      if middle_node is None:\n",
        "         print(\"The mentioned node is absent\")\n",
        "         return\n",
        "\n",
        "      NewNode = Node(newdata)\n",
        "      NewNode.nextval = middle_node.nextval\n",
        "      middle_node.nextval = NewNode\n",
        "\n",
        "# Print the linked list\n",
        "   def listprint(self):\n",
        "      printval = self.headval\n",
        "      while printval is not None:\n",
        "         print (printval.dataval)\n",
        "         printval = printval.nextval\n",
        "\n",
        "list = SLinkedList()\n",
        "list.headval = Node(\"Mon\")\n",
        "e2 = Node(\"Tue\")\n",
        "e3 = Node(\"Thu\")\n",
        "\n",
        "list.headval.nextval = e2\n",
        "e2.nextval = e3\n",
        "\n",
        "list.Inbetween(list.headval.nextval,\"Fri\")\n",
        "list.listprint()\n"
      ],
      "metadata": {
        "colab": {
          "base_uri": "https://localhost:8080/"
        },
        "id": "YuE1TyEMHa7e",
        "outputId": "83b4590d-762b-4595-efa2-369248da67a9"
      },
      "execution_count": 11,
      "outputs": [
        {
          "output_type": "stream",
          "name": "stdout",
          "text": [
            "Mon\n",
            "Tue\n",
            "Fri\n",
            "Thu\n"
          ]
        }
      ]
    },
    {
      "cell_type": "markdown",
      "source": [
        "## Deleting an Item"
      ],
      "metadata": {
        "id": "EvPbQu9FHmuV"
      }
    },
    {
      "cell_type": "code",
      "source": [
        "class Node:\n",
        "   def __init__(self, data=None):\n",
        "      self.data = data\n",
        "      self.next = None\n",
        "class SLinkedList:\n",
        "   def __init__(self):\n",
        "      self.head = None\n",
        "\n",
        "   def Atbegining(self, data_in):\n",
        "      NewNode = Node(data_in)\n",
        "      NewNode.next = self.head\n",
        "      self.head = NewNode\n",
        "\n",
        "# Function to remove node\n",
        "   def RemoveNode(self, Removekey):\n",
        "      HeadVal = self.head\n",
        "         \n",
        "      if (HeadVal is not None):\n",
        "         if (HeadVal.data == Removekey):\n",
        "            self.head = HeadVal.next\n",
        "            HeadVal = None\n",
        "            return\n",
        "      while (HeadVal is not None):\n",
        "         if HeadVal.data == Removekey:\n",
        "            break\n",
        "         prev = HeadVal\n",
        "         HeadVal = HeadVal.next\n",
        "\n",
        "      if (HeadVal == None):\n",
        "         return\n",
        "\n",
        "      prev.next = HeadVal.next\n",
        "      HeadVal = None\n",
        "\n",
        "   def LListprint(self):\n",
        "      printval = self.head\n",
        "      while (printval):\n",
        "         print(printval.data),\n",
        "         printval = printval.next\n",
        "\n",
        "llist = SLinkedList()\n",
        "llist.Atbegining(\"Mon\")\n",
        "llist.Atbegining(\"Tue\")\n",
        "llist.Atbegining(\"Wed\")\n",
        "llist.Atbegining(\"Thu\")\n",
        "llist.RemoveNode(\"Tue\")\n",
        "llist.LListprint()"
      ],
      "metadata": {
        "colab": {
          "base_uri": "https://localhost:8080/"
        },
        "id": "DlDTxeMaHq5X",
        "outputId": "dbc3c4a7-509c-4977-8509-b6fbdc055659"
      },
      "execution_count": 13,
      "outputs": [
        {
          "output_type": "stream",
          "name": "stdout",
          "text": [
            "Thu\n",
            "Wed\n",
            "Mon\n"
          ]
        }
      ]
    },
    {
      "cell_type": "code",
      "source": [],
      "metadata": {
        "id": "yDuLStPjHuqM"
      },
      "execution_count": null,
      "outputs": []
    }
  ]
}