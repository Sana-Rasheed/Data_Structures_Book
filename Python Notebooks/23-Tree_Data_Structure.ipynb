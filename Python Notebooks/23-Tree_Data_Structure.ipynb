{
  "nbformat": 4,
  "nbformat_minor": 0,
  "metadata": {
    "colab": {
      "provenance": [],
      "collapsed_sections": []
    },
    "kernelspec": {
      "name": "python3",
      "display_name": "Python 3"
    },
    "language_info": {
      "name": "python"
    }
  },
  "cells": [
    {
      "cell_type": "markdown",
      "source": [
        "## Creating root node"
      ],
      "metadata": {
        "id": "vuNpIFh4Gh9r"
      }
    },
    {
      "cell_type": "code",
      "source": [
        "class Node:\n",
        "   def __init__(self, data):\n",
        "      self.left = None\n",
        "      self.right = None\n",
        "      self.data = data\n",
        "   def PrintTree(self):\n",
        "      print(self.data)\n",
        "\n",
        "root = Node(10)\n",
        "root.PrintTree()"
      ],
      "metadata": {
        "colab": {
          "base_uri": "https://localhost:8080/"
        },
        "id": "UBtEXIsLGkAA",
        "outputId": "58c9aa58-20e7-4c5f-f166-ec5e0959e0c8"
      },
      "execution_count": 1,
      "outputs": [
        {
          "output_type": "stream",
          "name": "stdout",
          "text": [
            "10\n"
          ]
        }
      ]
    },
    {
      "cell_type": "markdown",
      "source": [
        "## Inserting into a Tree"
      ],
      "metadata": {
        "id": "TVNNbpDqGvps"
      }
    },
    {
      "cell_type": "code",
      "source": [
        "class Node:\n",
        "   def __init__(self, data):\n",
        "      self.left = None\n",
        "      self.right = None\n",
        "      self.data = data\n",
        "\n",
        "   def insert(self, data):\n",
        "# Compare the new value with the parent node\n",
        "      if self.data:\n",
        "         if data < self.data:\n",
        "            if self.left is None:\n",
        "               self.left = Node(data)\n",
        "            else:\n",
        "               self.left.insert(data)\n",
        "         elif data > self.data:\n",
        "               if self.right is None:\n",
        "                  self.right = Node(data)\n",
        "               else:\n",
        "                  self.right.insert(data)\n",
        "      else:\n",
        "         self.data = data\n",
        "\n",
        "# Print the tree\n",
        "   def PrintTree(self):\n",
        "      if self.left:\n",
        "         self.left.PrintTree()\n",
        "      print( self.data),\n",
        "      if self.right:\n",
        "         self.right.PrintTree()\n",
        "\n",
        "# Use the insert method to add nodes\n",
        "root = Node(12)\n",
        "root.insert(6)\n",
        "root.insert(14)\n",
        "root.insert(3)\n",
        "root.PrintTree()"
      ],
      "metadata": {
        "colab": {
          "base_uri": "https://localhost:8080/"
        },
        "id": "yCCatqSyGwJ2",
        "outputId": "f48f8bc3-54fb-470c-a527-0444be826db6"
      },
      "execution_count": 3,
      "outputs": [
        {
          "output_type": "stream",
          "name": "stdout",
          "text": [
            "3\n",
            "6\n",
            "12\n",
            "14\n"
          ]
        }
      ]
    },
    {
      "cell_type": "markdown",
      "source": [
        "## Traversing a Tree"
      ],
      "metadata": {
        "id": "wn6WX_QBHI8L"
      }
    },
    {
      "cell_type": "markdown",
      "source": [
        "### In-order Traversal"
      ],
      "metadata": {
        "id": "TGAcfnTUHPID"
      }
    },
    {
      "cell_type": "code",
      "source": [
        "class Node:\n",
        "   def __init__(self, data):\n",
        "      self.left = None\n",
        "      self.right = None\n",
        "      self.data = data\n",
        "# Insert Node\n",
        "   def insert(self, data):\n",
        "      if self.data:\n",
        "         if data < self.data:\n",
        "            if self.left is None:\n",
        "               self.left = Node(data)\n",
        "            else:\n",
        "               self.left.insert(data)\n",
        "         elif data > self.data:\n",
        "            if self.right is None:\n",
        "               self.right = Node(data)\n",
        "            else:\n",
        "               self.right.insert(data)\n",
        "      else:\n",
        "         self.data = data\n",
        "# Print the Tree\n",
        "   def PrintTree(self):\n",
        "      if self.left:\n",
        "         self.left.PrintTree()\n",
        "      print( self.data),\n",
        "      if self.right:\n",
        "         self.right.PrintTree()\n",
        "# Inorder traversal\n",
        "# Left -> Root -> Right\n",
        "   def inorderTraversal(self, root):\n",
        "      res = []\n",
        "      if root:\n",
        "         res = self.inorderTraversal(root.left)\n",
        "         res.append(root.data)\n",
        "         res = res + self.inorderTraversal(root.right)\n",
        "      return res\n",
        "root = Node(27)\n",
        "root.insert(14)\n",
        "root.insert(35)\n",
        "root.insert(10)\n",
        "root.insert(19)\n",
        "root.insert(31)\n",
        "root.insert(42)\n",
        "print(root.inorderTraversal(root))     "
      ],
      "metadata": {
        "colab": {
          "base_uri": "https://localhost:8080/"
        },
        "id": "TcD6HznCHWOC",
        "outputId": "5b10cab7-2680-4e9e-a04c-bcec9f412cad"
      },
      "execution_count": 12,
      "outputs": [
        {
          "output_type": "stream",
          "name": "stdout",
          "text": [
            "[10, 14, 19, 27, 31, 35, 42]\n"
          ]
        }
      ]
    },
    {
      "cell_type": "markdown",
      "source": [
        "### Pre-order Traversal\n"
      ],
      "metadata": {
        "id": "gsnh3iW1IIeF"
      }
    },
    {
      "cell_type": "code",
      "source": [
        "class Node:\n",
        "   def __init__(self, data):\n",
        "      self.left = None\n",
        "      self.right = None\n",
        "      self.data = data\n",
        "# Insert Node\n",
        "   def insert(self, data):\n",
        "      if self.data:\n",
        "         if data < self.data:\n",
        "            if self.left is None:\n",
        "               self.left = Node(data)\n",
        "            else:\n",
        "               self.left.insert(data)\n",
        "         elif data > self.data:\n",
        "            if self.right is None:\n",
        "               self.right = Node(data)\n",
        "            else:\n",
        "               self.right.insert(data)\n",
        "         else:\n",
        "            self.data = data\n",
        "# Print the Tree\n",
        "   def PrintTree(self):\n",
        "      if self.left:\n",
        "         self.left.PrintTree()\n",
        "      print( self.data),\n",
        "      if self.right:\n",
        "         self.right.PrintTree()\n",
        "# Preorder traversal\n",
        "# Root -> Left ->Right\n",
        "   def PreorderTraversal(self, root):\n",
        "      res = []\n",
        "      if root:\n",
        "         res.append(root.data)\n",
        "         res = res + self.PreorderTraversal(root.left)\n",
        "         res = res + self.PreorderTraversal(root.right)\n",
        "      return res\n",
        "root = Node(27)\n",
        "root.insert(14)\n",
        "root.insert(35)\n",
        "root.insert(10)\n",
        "root.insert(19)\n",
        "root.insert(31)\n",
        "root.insert(42)\n",
        "print(root.PreorderTraversal(root))"
      ],
      "metadata": {
        "colab": {
          "base_uri": "https://localhost:8080/"
        },
        "id": "HcflDfoIHWiI",
        "outputId": "b654f4b3-8f40-4af4-e136-0875e56fd04c"
      },
      "execution_count": 13,
      "outputs": [
        {
          "output_type": "stream",
          "name": "stdout",
          "text": [
            "[27, 14, 10, 19, 35, 31, 42]\n"
          ]
        }
      ]
    },
    {
      "cell_type": "markdown",
      "source": [
        "### Post-order Traversal"
      ],
      "metadata": {
        "id": "2ixfVrAKIZlj"
      }
    },
    {
      "cell_type": "code",
      "source": [
        "class Node:\n",
        "   def __init__(self, data):\n",
        "      self.left = None\n",
        "      self.right = None\n",
        "      self.data = data\n",
        "# Insert Node\n",
        "   def insert(self, data):\n",
        "      if self.data:\n",
        "         if data < self.data:\n",
        "            if self.left is None:\n",
        "               self.left = Node(data)\n",
        "            else:\n",
        "               self.left.insert(data)\n",
        "         elif data > self.data:\n",
        "            if self.right is None:\n",
        "               self.right = Node(data)\n",
        "            else:\n",
        "\n",
        "               self.right.insert(data)\n",
        "      else:\n",
        "         self.data = data\n",
        "# Print the Tree\n",
        "   def PrintTree(self):\n",
        "      if self.left:\n",
        "         self.left.PrintTree()\n",
        "      print( self.data),\n",
        "      if self.right:\n",
        "         self.right.PrintTree()\n",
        "# Postorder traversal\n",
        "# Left ->Right -> Root\n",
        "   def PostorderTraversal(self, root):\n",
        "      res = []\n",
        "      if root:\n",
        "        res = self.PostorderTraversal(root.left)\n",
        "        res = res + self.PostorderTraversal(root.right)\n",
        "        res.append(root.data)\n",
        "      return res\n",
        "root = Node(27)\n",
        "root.insert(14)\n",
        "root.insert(35)\n",
        "root.insert(10)\n",
        "root.insert(19)\n",
        "root.insert(31)\n",
        "root.insert(42)\n",
        "print(root.PostorderTraversal(root))"
      ],
      "metadata": {
        "colab": {
          "base_uri": "https://localhost:8080/"
        },
        "id": "3HGF8DQTIaOb",
        "outputId": "8226d3ad-4640-48fb-e429-b68eadb2e582"
      },
      "execution_count": 35,
      "outputs": [
        {
          "output_type": "stream",
          "name": "stdout",
          "text": [
            "[10, 19, 14, 31, 42, 35, 27]\n"
          ]
        }
      ]
    },
    {
      "cell_type": "code",
      "source": [],
      "metadata": {
        "id": "F523zZ86IeVk"
      },
      "execution_count": null,
      "outputs": []
    }
  ]
}