{
  "nbformat": 4,
  "nbformat_minor": 0,
  "metadata": {
    "colab": {
      "provenance": [],
      "collapsed_sections": []
    },
    "kernelspec": {
      "name": "python3",
      "display_name": "Python 3"
    },
    "language_info": {
      "name": "python"
    }
  },
  "cells": [
    {
      "cell_type": "code",
      "execution_count": null,
      "metadata": {
        "colab": {
          "base_uri": "https://localhost:8080/"
        },
        "id": "bfwwrp7Totgm",
        "outputId": "2bc7f3bc-8764-44ce-9059-6ad0f33ac507"
      },
      "outputs": [
        {
          "output_type": "stream",
          "name": "stdout",
          "text": [
            "10\n",
            "20\n",
            "30\n",
            "40\n",
            "50\n"
          ]
        }
      ],
      "source": [
        "from array import *\n",
        "\n",
        "array1 = array('i', [10,20,30,40,50])\n",
        "\n",
        "for x in array1:\n",
        "   print(x)"
      ]
    },
    {
      "cell_type": "markdown",
      "source": [
        "## Accessing Array Element"
      ],
      "metadata": {
        "id": "Qw0j3naOq6g8"
      }
    },
    {
      "cell_type": "code",
      "source": [
        "from array import *\n",
        "\n",
        "array1 = array('i', [10,20,30,40,50])\n",
        "\n",
        "print (array1[0])\n",
        "\n",
        "print (array1[2])"
      ],
      "metadata": {
        "colab": {
          "base_uri": "https://localhost:8080/"
        },
        "id": "6LnzIKa4p1ew",
        "outputId": "77b99e33-610e-438a-e7c0-59785caf2fbb"
      },
      "execution_count": null,
      "outputs": [
        {
          "output_type": "stream",
          "name": "stdout",
          "text": [
            "10\n",
            "30\n"
          ]
        }
      ]
    },
    {
      "cell_type": "markdown",
      "source": [
        "## Insertion Operation\n"
      ],
      "metadata": {
        "id": "WjuG6a4WrCJ6"
      }
    },
    {
      "cell_type": "code",
      "source": [
        "from array import *\n",
        "\n",
        "array1 = array('i', [10,20,30,40,50])\n",
        "\n",
        "array1.insert(1,60)\n",
        "\n",
        "for x in array1:\n",
        "   print(x)"
      ],
      "metadata": {
        "colab": {
          "base_uri": "https://localhost:8080/"
        },
        "id": "nqu43Iy2p6Vy",
        "outputId": "fca890e9-e4ba-4e31-f203-03743241984e"
      },
      "execution_count": null,
      "outputs": [
        {
          "output_type": "stream",
          "name": "stdout",
          "text": [
            "10\n",
            "60\n",
            "20\n",
            "30\n",
            "40\n",
            "50\n"
          ]
        }
      ]
    },
    {
      "cell_type": "markdown",
      "source": [
        "## Deletion Operation\n"
      ],
      "metadata": {
        "id": "zCFLNgW-rIcg"
      }
    },
    {
      "cell_type": "code",
      "source": [
        "from array import *\n",
        "\n",
        "array1 = array('i', [10,20,30,40,50])\n",
        "\n",
        "array1.remove(40)\n",
        "\n",
        "for x in array1:\n",
        "   print(x)"
      ],
      "metadata": {
        "colab": {
          "base_uri": "https://localhost:8080/"
        },
        "id": "2cDuwkesqAQz",
        "outputId": "c97b0bff-cd8a-4a4e-926d-70eecd0af9e8"
      },
      "execution_count": null,
      "outputs": [
        {
          "output_type": "stream",
          "name": "stdout",
          "text": [
            "10\n",
            "20\n",
            "30\n",
            "50\n"
          ]
        }
      ]
    },
    {
      "cell_type": "markdown",
      "source": [
        "## Search Operation"
      ],
      "metadata": {
        "id": "MaN2DOBsrNOy"
      }
    },
    {
      "cell_type": "code",
      "source": [
        "from array import *\n",
        "\n",
        "array1 = array('i', [10,20,30,40,50])\n",
        "\n",
        "print (array1.index(40))"
      ],
      "metadata": {
        "colab": {
          "base_uri": "https://localhost:8080/"
        },
        "id": "U8oWE9GYqqxZ",
        "outputId": "79d74f10-fceb-459f-cb8f-4812820b170e"
      },
      "execution_count": null,
      "outputs": [
        {
          "output_type": "stream",
          "name": "stdout",
          "text": [
            "3\n"
          ]
        }
      ]
    },
    {
      "cell_type": "markdown",
      "source": [
        "## Update Operation"
      ],
      "metadata": {
        "id": "dQOExj66rbBL"
      }
    },
    {
      "cell_type": "code",
      "source": [
        "from array import *\n",
        "\n",
        "array1 = array('i', [10,20,30,40,50])\n",
        "\n",
        "array1[2] = 80\n",
        "\n",
        "for x in array1:\n",
        "   print(x)"
      ],
      "metadata": {
        "colab": {
          "base_uri": "https://localhost:8080/"
        },
        "id": "4nTJE29hqvwT",
        "outputId": "213c4b55-b886-4160-92a5-048deed2bb16"
      },
      "execution_count": null,
      "outputs": [
        {
          "output_type": "stream",
          "name": "stdout",
          "text": [
            "10\n",
            "20\n",
            "80\n",
            "40\n",
            "50\n"
          ]
        }
      ]
    },
    {
      "cell_type": "code",
      "source": [],
      "metadata": {
        "id": "a3WfOtjVqxBb"
      },
      "execution_count": null,
      "outputs": []
    }
  ]
}