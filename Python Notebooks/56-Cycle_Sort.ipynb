{
  "nbformat": 4,
  "nbformat_minor": 0,
  "metadata": {
    "colab": {
      "provenance": []
    },
    "kernelspec": {
      "name": "python3",
      "display_name": "Python 3"
    },
    "language_info": {
      "name": "python"
    }
  },
  "cells": [
    {
      "cell_type": "code",
      "source": [
        "def cycleSort(array):\n",
        "   writes = 0\n",
        "   # cycles to be rotated\n",
        "   for cycleStart in range(0, len(array) - 1):\n",
        "      item = array[cycleStart]\n",
        "      #position to place the item\n",
        "      pos = cycleStart\n",
        "      for i in range(cycleStart + 1, len(array)):\n",
        "         if array[i] < item:\n",
        "            pos += 1\n",
        "      # if item exits, it is not a cycle\n",
        "      if pos == cycleStart:\n",
        "         continue\n",
        "      # Otherwise, place the item\n",
        "      while item == array[pos]:\n",
        "         pos += 1\n",
        "      array[pos], item = item, array[pos]\n",
        "      writes += 1\n",
        "      # rotation continued\n",
        "      while pos != cycleStart:\n",
        "         # Find a position to place the item\n",
        "         pos = cycleStart\n",
        "         for i in range(cycleStart + 1, len(array)):\n",
        "            if array[i] < item:\n",
        "               pos += 1\n",
        "         # place the item\n",
        "         while item == array[pos]:\n",
        "            pos += 1\n",
        "         array[pos], item = item, array[pos]\n",
        "         writes += 1\n",
        "   return writes\n",
        "# main\n",
        "arr = [1, 8, 3, 9, 10, 10, 2, 4 ]\n",
        "n = len(arr)\n",
        "cycleSort(arr)\n",
        "print(\"Sorted array is : \")\n",
        "for i in range(0, n) :\n",
        "   print(arr[i], end = \" \")"
      ],
      "metadata": {
        "colab": {
          "base_uri": "https://localhost:8080/"
        },
        "id": "a5OOX37qmlvy",
        "outputId": "f736a295-4cd4-4217-9280-723accc96144"
      },
      "execution_count": 15,
      "outputs": [
        {
          "output_type": "stream",
          "name": "stdout",
          "text": [
            "Sorted array is : \n",
            "1 2 3 4 8 9 10 10 "
          ]
        }
      ]
    },
    {
      "cell_type": "code",
      "source": [],
      "metadata": {
        "id": "nWD9tLMdmmEz"
      },
      "execution_count": null,
      "outputs": []
    }
  ]
}