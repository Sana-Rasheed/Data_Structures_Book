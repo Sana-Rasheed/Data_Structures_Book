{
  "nbformat": 4,
  "nbformat_minor": 0,
  "metadata": {
    "colab": {
      "provenance": []
    },
    "kernelspec": {
      "name": "python3",
      "display_name": "Python 3"
    },
    "language_info": {
      "name": "python"
    }
  },
  "cells": [
    {
      "cell_type": "markdown",
      "source": [
        "## Using Arrays"
      ],
      "metadata": {
        "id": "JfwdFNRLJF8B"
      }
    },
    {
      "cell_type": "code",
      "execution_count": 1,
      "metadata": {
        "colab": {
          "base_uri": "https://localhost:8080/"
        },
        "id": "f234NVVEHRY2",
        "outputId": "ae0f1e60-fafd-4c33-de4e-bea1458714e0"
      },
      "outputs": [
        {
          "output_type": "stream",
          "name": "stdout",
          "text": [
            "[0, 0, 1, 1, 3, 3]\n",
            "[2, 4, 2, 3, 1, 2]\n",
            "[3, 4, 5, 7, 2, 6]\n"
          ]
        }
      ],
      "source": [
        "# Python program for Sparse Matrix Representation\n",
        "# using arrays\n",
        "\n",
        "# assume a sparse matrix of order 4*5\n",
        "# let assume another matrix compactMatrix\n",
        "# now store the value,row,column of arr1 in sparse matrix compactMatrix\n",
        "\n",
        "sparseMatrix = [[0,0,3,0,4],[0,0,5,7,0],[0,0,0,0,0],[0,2,6,0,0]]\n",
        "\n",
        "# initialize size as 0\n",
        "size = 0\n",
        "\n",
        "for i in range(4):\n",
        "\tfor j in range(5):\n",
        "\t\tif (sparseMatrix[i][j] != 0):\n",
        "\t\t\tsize += 1\n",
        "\n",
        "# number of columns in compactMatrix(size) should\n",
        "# be equal to number of non-zero elements in sparseMatrix\n",
        "rows, cols = (3, size)\n",
        "compactMatrix = [[0 for i in range(cols)] for j in range(rows)]\n",
        "\n",
        "k = 0\n",
        "for i in range(4):\n",
        "\tfor j in range(5):\n",
        "\t\tif (sparseMatrix[i][j] != 0):\n",
        "\t\t\tcompactMatrix[0][k] = i\n",
        "\t\t\tcompactMatrix[1][k] = j\n",
        "\t\t\tcompactMatrix[2][k] = sparseMatrix[i][j]\n",
        "\t\t\tk += 1\n",
        "\n",
        "for i in compactMatrix:\n",
        "\tprint(i)\n",
        "\n"
      ]
    },
    {
      "cell_type": "markdown",
      "source": [
        "## Using LinkedList"
      ],
      "metadata": {
        "id": "Fg08ZvIoJUyv"
      }
    },
    {
      "cell_type": "code",
      "source": [
        "# Python Program for Representation of\n",
        "# Sparse Matrix using Linked List\n",
        "\n",
        "# Node Class to represent Linked List Node\n",
        "class Node:\n",
        "\n",
        "\t# Making the slots for storing row,\n",
        "\t# column, value, and address\n",
        "\t__slots__ = \"row\", \"col\", \"data\", \"next\"\n",
        "\n",
        "\t# Constructor to initialize the values\n",
        "\tdef __init__(self, row=0, col=0, data=0, next=None):\n",
        "\n",
        "\t\tself.row = row\n",
        "\t\tself.col = col\n",
        "\t\tself.data = data\n",
        "\t\tself.next = next\n",
        "\n",
        "\n",
        "# Class to convert Sparse Matrix\n",
        "# into Linked List\n",
        "class Sparse:\n",
        "\n",
        "\t# Initialize Class Variables\n",
        "\tdef __init__(self):\n",
        "\t\tself.head = None\n",
        "\t\tself.temp = None\n",
        "\t\tself.size = 0\n",
        "\n",
        "\t# Function which returns the size\n",
        "\t# of the Linked List\n",
        "\tdef __len__(self):\n",
        "\t\treturn self.size\n",
        "\n",
        "\t# Check the Linked List is\n",
        "\t# Empty or not\n",
        "\tdef isempty(self):\n",
        "\t\treturn self.size == 0\n",
        "\n",
        "\t# Responsible function to create\n",
        "\t# Linked List from Sparse Matrix\n",
        "\tdef create_new_node(self, row, col, data):\n",
        "\n",
        "\t\t# Creating New Node\n",
        "\t\tnewNode = Node(row, col, data, None)\n",
        "\n",
        "\t\t# Check whether the List is\n",
        "\t\t# empty or not\n",
        "\t\tif self.isempty():\n",
        "\t\t\tself.head = newNode\n",
        "\t\telse:\n",
        "\t\t\tself.temp.next = newNode\n",
        "\t\tself.temp = newNode\n",
        "\n",
        "\t\t# Incrementing the size\n",
        "\t\tself.size += 1\n",
        "\n",
        "\t# Function display the contents of\n",
        "\t# Linked List\n",
        "\tdef PrintList(self):\n",
        "\t\ttemp = r = s = self.head\n",
        "\t\tprint(\"row_position:\", end=\" \")\n",
        "\t\twhile temp != None:\n",
        "\t\t\tprint(temp.row, end=\" \")\n",
        "\t\t\ttemp = temp.next\n",
        "\t\tprint()\n",
        "\t\tprint(\"column_postion:\", end=\" \")\n",
        "\t\twhile r != None:\n",
        "\t\t\tprint(r.col, end=\" \")\n",
        "\t\t\tr = r.next\n",
        "\t\tprint()\n",
        "\t\tprint(\"Value:\", end=\" \")\n",
        "\t\twhile s != None:\n",
        "\t\t\tprint(s.data, end=\" \")\n",
        "\t\t\ts = s.next\n",
        "\t\tprint()\n",
        "\n",
        "# Driver Code\n",
        "if __name__ == \"__main__\":\n",
        "\n",
        "\t# Creating Object\n",
        "\ts = Sparse()\n",
        "\n",
        "\t# Assuming 4x5 Sparse Matrix\n",
        "\tsparseMatric = [[0, 0, 3, 0, 4],\n",
        "\t\t\t\t\t[0, 0, 5, 7, 0],\n",
        "\t\t\t\t\t[0, 0, 0, 0, 0],\n",
        "\t\t\t\t\t[0, 2, 6, 0, 0]]\n",
        "\tfor i in range(4):\n",
        "\t\tfor j in range(5):\n",
        "\n",
        "\t\t\t# Creating Linked List by only those\n",
        "\t\t\t# elements which are non-zero\n",
        "\t\t\tif sparseMatric[i][j] != 0:\n",
        "\t\t\t\ts.create_new_node(i, j, sparseMatric[i][j])\n",
        "\n",
        "\t# Printing the Linked List Representation\n",
        "\t# of the sparse matrix\n",
        "\ts.PrintList()\n",
        "\n"
      ],
      "metadata": {
        "colab": {
          "base_uri": "https://localhost:8080/"
        },
        "id": "bVsZqKsWJoBD",
        "outputId": "07c68b2c-876e-4e20-eb76-db603743aeaa"
      },
      "execution_count": 11,
      "outputs": [
        {
          "output_type": "stream",
          "name": "stdout",
          "text": [
            "row_position: 0 0 1 1 3 3 \n",
            "column_postion: 2 4 2 3 1 2 \n",
            "Value: 3 4 5 7 2 6 \n"
          ]
        }
      ]
    }
  ]
}